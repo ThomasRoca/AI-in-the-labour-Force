{
 "cells": [
  {
   "cell_type": "markdown",
   "metadata": {
    "slideshow": {
     "slide_type": "slide"
    }
   },
   "source": [
    "\n",
    "<img src=\"https://aiforall.azurewebsites.net/img/header2.png\" width=\"75%\"><br><br>\n",
    "<h1> Estimating AI workers' prevalence : training and tuning a classifier </h1>\n",
    "\n",
    "*v3.1, May 2019, Thomas Roca, PhD, Data Scientist, Microsoft & LinkedIn*\n",
    "\n",
    "--- \n",
    "\n",
    "<br>\n",
    "<h1>AI Profile Classifier with Scikit-Learn</h1>\n",
    "<br>\n",
    "\n",
    "The model was trained with relevant job descriptions advertized on linkedIn in 2018. \"Synthetic profiles\" were this way build, gathering job title, job description and skills associated. \n",
    "\n",
    "### LinkedIn learning introduction to Natural Language Processing:\n",
    "- https://www.linkedin.com/learning/nlp-with-python-for-machine-learning-essential-training/ \n",
    "\n",
    "### other resources\n",
    "- http://scikit-learn.org/stable/tutorial/text_analytics/working_with_text_data.html\n",
    "- https://www.datacamp.com/community/tutorials/scikit-learn-fake-news\n",
    "- https://www.learndatasci.com/tutorials/predicting-reddit-news-sentiment-naive-bayes-text-classifiers/\n",
    "- https://machinelearningmastery.com/prepare-text-data-machine-learning-scikit-learn/\n",
    "- https://machinelearningmastery.com/sequence-classification-lstm-recurrent-neural-networks-python-keras/\n",
    "- https://github.com/kjam/random_hackery/blob/master/Comparing%20Fake%20News%20Classifiers.ipynb\n",
    "- https://blog.kjamistan.com/comparing-scikit-learn-text-classifiers-on-a-fake-news-dataset/ \n",
    "- https://towardsdatascience.com/machine-learning-nlp-text-classification-using-scikit-learn-python-and-nltk-c52b92a7c73a\n",
    "- https://machinelearningmastery.com/predict-sentiment-movie-reviews-using-deep-learning/"
   ]
  },
  {
   "cell_type": "markdown",
   "metadata": {
    "slideshow": {
     "slide_type": "slide"
    }
   },
   "source": [
    "# Data Exploration"
   ]
  },
  {
   "cell_type": "code",
   "execution_count": 2,
   "metadata": {
    "slideshow": {
     "slide_type": "-"
    }
   },
   "outputs": [
    {
     "name": "stdout",
     "output_type": "stream",
     "text": [
      "14287\n"
     ]
    },
    {
     "data": {
      "text/html": [
       "<div>\n",
       "<style scoped>\n",
       "    .dataframe tbody tr th:only-of-type {\n",
       "        vertical-align: middle;\n",
       "    }\n",
       "\n",
       "    .dataframe tbody tr th {\n",
       "        vertical-align: top;\n",
       "    }\n",
       "\n",
       "    .dataframe thead th {\n",
       "        text-align: right;\n",
       "    }\n",
       "</style>\n",
       "<table border=\"1\" class=\"dataframe\">\n",
       "  <thead>\n",
       "    <tr style=\"text-align: right;\">\n",
       "      <th></th>\n",
       "      <th>class</th>\n",
       "      <th>profile_content</th>\n",
       "    </tr>\n",
       "  </thead>\n",
       "  <tbody>\n",
       "    <tr>\n",
       "      <th>0</th>\n",
       "      <td>Not_AI</td>\n",
       "      <td>urgent salesman wanted fast growing ai machine...</td>\n",
       "    </tr>\n",
       "    <tr>\n",
       "      <th>1</th>\n",
       "      <td>Not_AI</td>\n",
       "      <td>graduate it sales ai software includenew busin...</td>\n",
       "    </tr>\n",
       "    <tr>\n",
       "      <th>2</th>\n",
       "      <td>Not_AI</td>\n",
       "      <td>product manager machine learning platform make...</td>\n",
       "    </tr>\n",
       "    <tr>\n",
       "      <th>3</th>\n",
       "      <td>Not_AI</td>\n",
       "      <td>sales business development manager artificial ...</td>\n",
       "    </tr>\n",
       "    <tr>\n",
       "      <th>4</th>\n",
       "      <td>Not_AI</td>\n",
       "      <td>software product manager machine learning perk...</td>\n",
       "    </tr>\n",
       "    <tr>\n",
       "      <th>5</th>\n",
       "      <td>Not_AI</td>\n",
       "      <td>senior product manager bidding machine learnin...</td>\n",
       "    </tr>\n",
       "    <tr>\n",
       "      <th>6</th>\n",
       "      <td>Not_AI</td>\n",
       "      <td>csm customer success manager sales ai startup ...</td>\n",
       "    </tr>\n",
       "    <tr>\n",
       "      <th>7</th>\n",
       "      <td>Not_AI</td>\n",
       "      <td>Product Manager Artificial Intelligence why BN...</td>\n",
       "    </tr>\n",
       "    <tr>\n",
       "      <th>8</th>\n",
       "      <td>Not_AI</td>\n",
       "      <td>dos director sales artificial intelligence sta...</td>\n",
       "    </tr>\n",
       "    <tr>\n",
       "      <th>9</th>\n",
       "      <td>Not_AI</td>\n",
       "      <td>sales development representative ai martech st...</td>\n",
       "    </tr>\n",
       "  </tbody>\n",
       "</table>\n",
       "</div>"
      ],
      "text/plain": [
       "    class                                    profile_content\n",
       "0  Not_AI  urgent salesman wanted fast growing ai machine...\n",
       "1  Not_AI  graduate it sales ai software includenew busin...\n",
       "2  Not_AI  product manager machine learning platform make...\n",
       "3  Not_AI  sales business development manager artificial ...\n",
       "4  Not_AI  software product manager machine learning perk...\n",
       "5  Not_AI  senior product manager bidding machine learnin...\n",
       "6  Not_AI  csm customer success manager sales ai startup ...\n",
       "7  Not_AI  Product Manager Artificial Intelligence why BN...\n",
       "8  Not_AI  dos director sales artificial intelligence sta...\n",
       "9  Not_AI  sales development representative ai martech st..."
      ]
     },
     "execution_count": 2,
     "metadata": {},
     "output_type": "execute_result"
    }
   ],
   "source": [
    "import pandas as pd\n",
    "import re\n",
    "df= pd.read_csv('data.csv', encoding='utf-8')\n",
    "try: del df['Unnamed: 0']\n",
    "except: pass\n",
    "# Need to remove number from text\n",
    "df['profile_content'] =df['profile_content'].str.replace('\\d+', '') \n",
    "print(len(df))\n",
    "df.head(10)"
   ]
  },
  {
   "cell_type": "markdown",
   "metadata": {},
   "source": [
    "## Example of content"
   ]
  },
  {
   "cell_type": "code",
   "execution_count": 286,
   "metadata": {},
   "outputs": [
    {
     "name": "stdout",
     "output_type": "stream",
     "text": [
      "Not_AI | urgent salesman wanted fast growing ai machine learning tech company needs you focused sales person years sales usa starting real opportunity difference bonus ceos grit healthcare sales company research artificial intelligence ai machine learning\n",
      "AI_profile | data scientist machine learning python art production quality machine learning models stealth automotive financial technology company equal opportunity employerall qualified applicants los angeles fair chance initiative los angeles qualified applicants real time production services offer free health benefits vision care coverage premiums offer flexible work hours develop machine learning models machine learning tech stack develop data products driven stack data sculptor molding raw data sets machine learning models machine learning algorithms offering unprecedented freedom fully digital experience entire app experience car acquisition process strong coding abilities earned trip word tolooking forward email subject line nitu gulati pauly solve business problems protected veteran status gulati pauly cybercoders data scientist business units prediction algorithms characteristic protected santa monica pivotal role auto industry computer science quantitative discipline advanced degree apply skillset team environment share skills learn python hive presto plusesexperience competing kaggle competition provide lunch unlimited vacation apply today clicking apply receive consideration national origin federal law persons hired verify identity united states criminal histories manner consistent contribute ideas cybercoders contribute revolutionizing flexibility transforming implementing collaborate engineering technologies positionyou willingness collaborative experienced matplotlib kubernetes tensorflow transparency celebrated paying  ccw  application considered recruiting cybercodersapplicants authorized employment disability compliance eligibility requirements apache mahout theano weka principal component analysis microsoft azure machine learning text classification bayesian networks statistical inference reinforcement learning spark jupyter linear regression dimensionality reduction bayesian methods data wrangling sentiment analysis text analytics neural networks collaborative filtering anomaly detection bayesian inference regression models predictive analytics logistic regression time series analysis exploratory data analysis statistical modeling data mining numpy decision trees nltk support vector machine svm deep learning recommender systems natural language processing nlp unsupervised learning scipy keras pandas software predictive modeling bayesian statistics text mining scikit learn pyspark tensorflow matplotlib apache spark data science python programming language machine learning\n"
     ]
    }
   ],
   "source": [
    "print(df['class'][0],'|', df['profile_content'][0])\n",
    "print(df['class'][9331],'|', df['profile_content'][9331])"
   ]
  },
  {
   "cell_type": "markdown",
   "metadata": {
    "slideshow": {
     "slide_type": "slide"
    }
   },
   "source": [
    "# Class distribution\n",
    "\n",
    "With 30% of Not_AI profiles in the training set we have a training set **a bit unbalanced**. We will need to be carefull while evaluating the models. Confusion Matrices are a good way to evaluate unbalanced misclassification (if the model tends to misclassify only in the direction of the unbalanced class)\n",
    "\n",
    "**Ressources on umbalanced :**\n",
    "- https://machinelearningmastery.com/tactics-to-combat-imbalanced-classes-in-your-machine-learning-dataset/\n",
    "- http://contrib.scikit-learn.org/imbalanced-learn/stable/auto_examples/applications/plot_topic_classication.html"
   ]
  },
  {
   "cell_type": "code",
   "execution_count": 2,
   "metadata": {
    "slideshow": {
     "slide_type": "-"
    }
   },
   "outputs": [
    {
     "name": "stdout",
     "output_type": "stream",
     "text": [
      "Class: ['AI_profile', 'Not_AI']\n",
      "Frequency: [69.90481522956327, 30.095184770436727]\n",
      "Actuall Count: [9988, 4300] | Total: 14288\n"
     ]
    },
    {
     "data": {
      "image/png": "[encoded data removed]",
      "text/plain": [
       "<Figure size 576x432 with 1 Axes>"
      ]
     },
     "metadata": {
      "needs_background": "light"
     },
     "output_type": "display_data"
    }
   ],
   "source": [
    "from IPython.display import HTML\n",
    "import matplotlib.pyplot as plt\n",
    "import pandas as pd\n",
    "from io import StringIO\n",
    "%matplotlib inline\n",
    "\n",
    "number=df.groupby('class').profile_content.count()\n",
    "percentage=number/number.sum()*100\n",
    "fig = plt.figure(figsize=(8,6))\n",
    "plt.ylabel('%')\n",
    "plt.title('Class distribution (%) within the training set')\n",
    "print(\"Class:\", number.index.tolist())\n",
    "print(\"Frequency:\", percentage.tolist())\n",
    "print(\"Actuall Count:\", number.tolist(), \"| Total:\",number.sum())\n",
    "percentage.plot.bar(ylim=0)\n",
    "plt.show()"
   ]
  },
  {
   "cell_type": "markdown",
   "metadata": {
    "slideshow": {
     "slide_type": "skip"
    }
   },
   "source": [
    "## Building the training and testing data\n",
    "\n",
    "Here I use a 20/80 ratio for the testing set. By default the data are shuffled before splitting.\n",
    "See more info on [Train_test_split in scikit-learn](http://scikit-learn.org/stable/modules/generated/sklearn.model_selection.train_test_split.html)"
   ]
  },
  {
   "cell_type": "code",
   "execution_count": 3,
   "metadata": {
    "slideshow": {
     "slide_type": "skip"
    }
   },
   "outputs": [],
   "source": [
    "from sklearn import datasets, linear_model\n",
    "from sklearn.model_selection import train_test_split\n",
    "\n",
    "# Set `y` \n",
    "y = df['class']\n",
    "# Drop the `label` column\n",
    "df.drop(\"class\", axis=1)\n",
    "# Make training and test sets \n",
    "X_train, X_test, y_train, y_test = train_test_split(df['profile_content'], y, test_size=0.2, random_state=53)"
   ]
  },
  {
   "cell_type": "markdown",
   "metadata": {
    "slideshow": {
     "slide_type": "slide"
    }
   },
   "source": [
    "## Vectorizing\n",
    "\n",
    "Models do not understand words... In order to run models we need to transform text into numbers, extract variables (features) that characterize text input (member's information). Several technics exist to transform text into features. The process is called [features extraction](http://scikit-learn.org/stable/modules/feature_extraction.html). Common features extraction technics consist in counting (CountVectorizer aka [bag of words](https://en.wikipedia.org/wiki/Bag-of-words_model)) unique words or counting words next to each other([N-gram](https://en.wikipedia.org/wiki/N-gram)). It is also possible to count the frequency of words (terms frequency inverse document frequency - [TF-IDF](https://en.wikipedia.org/wiki/Tf%E2%80%93idf)), the amount of punctuation, capitalized letters, lenght of the text (e.g, use case: spam detection).\n",
    "\n",
    "**More resources:**\n",
    "- https://www.oreilly.com/library/view/feature-engineering-for/9781491953235/ch04.html\n",
    "- https://skymind.ai/wiki/bagofwords-tf-idf\n",
    "- https://machinelearningmastery.com/gentle-introduction-bag-words-model/\n",
    "\n",
    "\n",
    "Since computers do not understand the meaning of words (i.e. they just see them as characters), capital letters, punctuation, spaces, etc. do matter. To limit noise and allow models perform better, they must be fed with the most meanginful information.\n",
    "Technics have been developped to simplify texts while keeping their meaning similar by removing certain words which are not adding significant meaning (e.g. [stopwords](https://en.wikipedia.org/wiki/Stop_words)), or by shortening (litteraly chopping) words by getting to their roots ([stemming](https://en.wikipedia.org/wiki/Stemming)) or to limit their diversity by grouping them according to their basic meaning - i.e. Lema- ([lemmatizing](https://en.wikipedia.org/wiki/Lemmatisation)). These technics do not appear patricularly usefull in our case as job title and skills are more similar to keywords. We only resort to extracting keywords and removing stopwords from job/ position description.\n",
    "\n",
    "**More resources:**\n",
    "- **From linkeding learning**:\n",
    "    - https://www.linkedin.com/learning/nlp-with-python-for-machine-learning-essential-training/introducing-stemming\n",
    "    - https://www.linkedin.com/learning/nlp-with-python-for-machine-learning-essential-training/introducing-lemmatizing\n",
    "    - https://www.linkedin.com/learning/nlp-with-python-for-machine-learning-essential-training/introducing-vectorizing\n",
    "- https://nlp.stanford.edu/IR-book/html/htmledition/stemming-and-lemmatization-1.html\n",
    "- http://scikit-learn.org/stable/modules/feature_extraction.html\n",
    "\n",
    "\n",
    "Now that we have a training and a testing dataset, we can build the classifier. To get a good idea if the words and tokens in the profiles had a significant impact on whether the profile was AI or not_AI, lets's start by using CountVectorizer and TfidfVectorizer.\n",
    "\n",
    "Another vectorizer used sometimes for text classification is a HashingVectorizer. Vectorizers require less memory and are faster (because they are sparse and use hashes rather than tokens) but are more difficult to introspect. See below more information aboutHashingVectorizer in the scikit-learn doc\n",
    "\n",
    "More resources about hash vectorization:\n",
    "- http://scikit-learn.org/stable/modules/generated/sklearn.feature_extraction.text.HashingVectorizer.html\n",
    "- https://kite.com/python/docs/sklearn.feature_extraction.text.HashingVectorizer\n"
   ]
  },
  {
   "cell_type": "markdown",
   "metadata": {},
   "source": [
    "**1. Bags-of_words model**\n",
    "\n",
    "**The question of Ngram...**\n",
    "Using Ngram will let the model look into not only occurence of words but also occurences of word association. That could help classification, but also increase the number of features. \n",
    "Note that since words like \"machine learning\" and \"deep learning\", etc. are to build the training set, for both AI and Non_AI classes, those will note have any discrimination power.\n",
    "\n",
    "Overall after trying N-Gramms on SVM it improved marginally the classification (1 observation misclassified was then well classified) Since the model performed already well, should we increase the number of features, the risk of overfitting is already high and I want the model to be able to generalize as much as possible considering the nature of the training set"
   ]
  },
  {
   "cell_type": "code",
   "execution_count": 4,
   "metadata": {
    "slideshow": {
     "slide_type": "skip"
    }
   },
   "outputs": [],
   "source": [
    "from sklearn.feature_extraction.text import CountVectorizer\n",
    "from sklearn.feature_extraction import text\n",
    "#personalized stop words\n",
    "my_stop_words = text.ENGLISH_STOP_WORDS.union([\"âº\",\"institute\",\"honors\",\"technology\",\"Show more\",\"Field Of Study\", \"attended\",\"or\",\"expected\",\"graduation\",\"Name\",\"study\",\"indian\",\"chinese\",\"applied\",\"english\",\"graduation\",\"tsinghua\",\"studyeconomics\",\"dates\",\"field\",\"study\",'ê½cry', 'ð¹', 'ð¹ñ', 'ðºð', 'ð¼ñ', 'ð½ð³ð', 'ð½ñ''__mref', '_p', 'aa', 'aaa', 'aas', 'ab', \"\\n\",\"Education\",\"Degree\",\"Name\",\"Field\", \"Of\",\"Study\",\"â\",\"Dates\",\"attended\",\"or\",\"expected\",\"graduation\", \"â€“\", \"Show\",\"more\", \"Grade\",\"( )\",\"This\",\"position\",\"has\",\"media\"])\n",
    "\n",
    "# Initialize the `count_vectorizer` \n",
    "count_vectorizer = CountVectorizer(stop_words=my_stop_words) #, ngram_range=(1, 2)) \n",
    "# question.. should i use N grams? this would increase the number of features for little gain\n",
    "\n",
    "# Fit and transform the training data \n",
    "count_train = count_vectorizer.fit_transform(X_train) \n",
    "# Transform the test set \n",
    "count_test = count_vectorizer.transform(X_test)"
   ]
  },
  {
   "cell_type": "markdown",
   "metadata": {},
   "source": [
    "**2.Term Frequency–inverse Document Frequency**"
   ]
  },
  {
   "cell_type": "code",
   "execution_count": 11,
   "metadata": {
    "slideshow": {
     "slide_type": "skip"
    }
   },
   "outputs": [],
   "source": [
    "from sklearn.feature_extraction.text import TfidfVectorizer\n",
    "from sklearn.feature_extraction.text import TfidfTransformer\n",
    "from sklearn.feature_extraction import text\n",
    "\n",
    "# Initialize the `tfidf_vectorizer` \n",
    "tfidf_vectorizer =TfidfVectorizer(stop_words=my_stop_words, ngram_range=(1, 1), max_df=0.7)\n",
    "# Fit and transform the training data \n",
    "tfidf_train = tfidf_vectorizer.fit_transform(X_train) \n",
    "\n",
    "# Transform the test set \n",
    "tfidf_test = tfidf_vectorizer.transform(X_test)"
   ]
  },
  {
   "cell_type": "markdown",
   "metadata": {
    "slideshow": {
     "slide_type": "skip"
    }
   },
   "source": [
    "## Models comparisons\n",
    "\n",
    "A quick way to check models accuracy is to draw confusion Matrices"
   ]
  },
  {
   "cell_type": "code",
   "execution_count": 12,
   "metadata": {
    "slideshow": {
     "slide_type": "skip"
    }
   },
   "outputs": [],
   "source": [
    "import matplotlib.pyplot as plt\n",
    "import seaborn as sn\n",
    "import numpy as np \n",
    "import itertools\n",
    "\n",
    "def plot_confusion_matrix(cm, classes,\n",
    "                          normalize=False,\n",
    "                          title='Confusion matrix',\n",
    "                          cmap=plt.cm.Blues):\n",
    "    \"\"\"\n",
    "    See full source and example: \n",
    "    http://scikit-learn.org/stable/auto_examples/model_selection/plot_confusion_matrix.html\n",
    "    This function prints and plots the confusion matrix.\n",
    "    Normalization can be applied by setting `normalize=True`.\n",
    "    \"\"\"\n",
    "    plt.imshow(cm, interpolation='nearest', cmap=cmap)\n",
    "    plt.title(title)\n",
    "    plt.colorbar()\n",
    "    tick_marks = np.arange(len(classes))\n",
    "    plt.xticks(tick_marks, classes, rotation=45)\n",
    "    plt.yticks(tick_marks, classes)\n",
    "\n",
    "    if normalize:\n",
    "        cm = cm.astype('float') / cm.sum(axis=1)[:, np.newaxis]\n",
    "        print(\"Normalized confusion matrix\")\n",
    "    else:\n",
    "        print('Confusion matrix, without normalization')\n",
    "\n",
    "    thresh = cm.max() / 2.\n",
    "    for i, j in itertools.product(range(cm.shape[0]), range(cm.shape[1])):\n",
    "        plt.text(j, i, cm[i, j],\n",
    "                 horizontalalignment=\"center\",\n",
    "                 color=\"white\" if cm[i, j] > thresh else \"black\")\n",
    "\n",
    "    plt.tight_layout()\n",
    "    plt.ylabel('True label')\n",
    "    plt.xlabel('Predicted label')"
   ]
  },
  {
   "cell_type": "markdown",
   "metadata": {},
   "source": [
    "### Lets start with the usual suspect a Naive Bayes classifiers"
   ]
  },
  {
   "cell_type": "code",
   "execution_count": 23,
   "metadata": {
    "slideshow": {
     "slide_type": "slide"
    }
   },
   "outputs": [
    {
     "name": "stdout",
     "output_type": "stream",
     "text": [
      "accuracy:   0.985\n",
      "Confusion matrix, without normalization\n"
     ]
    },
    {
     "data": {
      "image/png": "[encoded data removed]",
      "text/plain": [
       "<Figure size 432x288 with 2 Axes>"
      ]
     },
     "metadata": {
      "needs_background": "light"
     },
     "output_type": "display_data"
    }
   ],
   "source": [
    "from sklearn.naive_bayes import MultinomialNB\n",
    "from sklearn import metrics\n",
    "\n",
    "clf = MultinomialNB(alpha=0.05) \n",
    "clf.fit(tfidf_train, y_train)\n",
    "pred = clf.predict(tfidf_test)\n",
    "score = metrics.accuracy_score(y_test, pred)\n",
    "\n",
    "print(\"accuracy:   %0.3f\" % score)\n",
    "cm = metrics.confusion_matrix(y_test, pred, labels=['AI_profile', 'Not_AI'])\n",
    "plot_confusion_matrix(cm, classes=['AI_profile', 'Not_AI'])"
   ]
  },
  {
   "cell_type": "markdown",
   "metadata": {
    "slideshow": {
     "slide_type": "skip"
    }
   },
   "source": [
    "## Bags of Words implementation\n",
    "\n",
    "More info about Bag-of-words (aka CountVectorizer): https://en.wikipedia.org/wiki/Bag-of-words_model"
   ]
  },
  {
   "cell_type": "code",
   "execution_count": 24,
   "metadata": {
    "slideshow": {
     "slide_type": "skip"
    }
   },
   "outputs": [
    {
     "name": "stdout",
     "output_type": "stream",
     "text": [
      "accuracy:   0.977\n",
      "Confusion matrix, without normalization\n"
     ]
    },
    {
     "data": {
      "image/png": "[encoded data removed]",
      "text/plain": [
       "<Figure size 432x288 with 2 Axes>"
      ]
     },
     "metadata": {
      "needs_background": "light"
     },
     "output_type": "display_data"
    }
   ],
   "source": [
    "from sklearn.naive_bayes import MultinomialNB\n",
    "from sklearn import metrics\n",
    "\n",
    "clf = MultinomialNB(alpha=0.05)\n",
    "clf.fit(count_train, y_train)\n",
    "pred = clf.predict(count_test)\n",
    "score = metrics.accuracy_score(y_test, pred)\n",
    "print(\"accuracy:   %0.3f\" % score)\n",
    "cm = metrics.confusion_matrix(y_test, pred, labels=['AI_profile', 'Not_AI'])\n",
    "plot_confusion_matrix(cm, classes=['AI_profile', 'Not_AI'])"
   ]
  },
  {
   "cell_type": "markdown",
   "metadata": {
    "slideshow": {
     "slide_type": "skip"
    }
   },
   "source": [
    "**First observations:**\n",
    "With no parameter tuning, count vectorized training set count_train provides the same performance as a TF-IDF vectors.\n",
    "Lets fine tune a bit playing with Alpha\n",
    "\n",
    "**NB. In general it is better to use the AUC than accuracy as target for fine tuning.. Problem: SVM is a discreet classifier and ROC curve would actually not be a curve and the approach is less straight forward with this kind of classifier**\n",
    "\n",
    "**Fine tuning: alpha - additional smoothing parameter**"
   ]
  },
  {
   "cell_type": "code",
   "execution_count": 29,
   "metadata": {},
   "outputs": [
    {
     "name": "stderr",
     "output_type": "stream",
     "text": [
      "C:\\Python35\\lib\\site-packages\\sklearn\\naive_bayes.py:472: UserWarning: alpha too small will result in numeric errors, setting alpha = 1.0e-10\n",
      "  'setting alpha = %.1e' % _ALPHA_MIN)\n"
     ]
    },
    {
     "name": "stdout",
     "output_type": "stream",
     "text": [
      "Alpha: 0.00000 Score: 0.98635\n"
     ]
    }
   ],
   "source": [
    "last_score = 0\n",
    "for alpha in np.arange(0,1,.001):\n",
    "    nb_classifier = MultinomialNB(alpha=alpha)\n",
    "    nb_classifier.fit(count_train, y_train)\n",
    "    pred = nb_classifier.predict(count_test)\n",
    "    score = metrics.accuracy_score(y_test, pred)\n",
    "    if score > last_score:\n",
    "        clf = nb_classifier\n",
    "        print(\"Alpha: {:.5f} Score: {:.5f}\".format(alpha, score))\n",
    "        last_score=score"
   ]
  },
  {
   "cell_type": "code",
   "execution_count": 30,
   "metadata": {},
   "outputs": [
    {
     "name": "stderr",
     "output_type": "stream",
     "text": [
      "C:\\Python35\\lib\\site-packages\\sklearn\\naive_bayes.py:472: UserWarning: alpha too small will result in numeric errors, setting alpha = 1.0e-10\n",
      "  'setting alpha = %.1e' % _ALPHA_MIN)\n"
     ]
    },
    {
     "name": "stdout",
     "output_type": "stream",
     "text": [
      "Alpha: 0.00000 Score: 0.98810\n"
     ]
    }
   ],
   "source": [
    "last_score = 0\n",
    "for alpha in np.arange(0,1,.001):\n",
    "    nb_classifier = MultinomialNB(alpha=alpha)\n",
    "    nb_classifier.fit(tfidf_train, y_train)\n",
    "    pred = nb_classifier.predict(tfidf_test)\n",
    "    score = metrics.accuracy_score(y_test, pred)\n",
    "    if score > last_score:\n",
    "        clf = nb_classifier\n",
    "        print(\"Alpha: {:.5f} Score: {:.5f}\".format(alpha, score))\n",
    "        last_score=score"
   ]
  },
  {
   "cell_type": "markdown",
   "metadata": {},
   "source": [
    "### Conclusion:\n",
    "Multinomial Naive Bayes Classifier gets its best performance with TF-IDF vectors and alpha=0.000. It predicts accurately AI from non_AI profiles in 98.8% of cases in the testing set. As shown by the confusion matrix below, 6 Not_AI profiles were tagged as AI and 28 AI_profiles were labelled as not_AI. 2824 Profiles were correctly identified."
   ]
  },
  {
   "cell_type": "code",
   "execution_count": 25,
   "metadata": {},
   "outputs": [
    {
     "name": "stderr",
     "output_type": "stream",
     "text": [
      "C:\\Python35\\lib\\site-packages\\sklearn\\naive_bayes.py:472: UserWarning: alpha too small will result in numeric errors, setting alpha = 1.0e-10\n",
      "  'setting alpha = %.1e' % _ALPHA_MIN)\n"
     ]
    },
    {
     "name": "stdout",
     "output_type": "stream",
     "text": [
      "accuracy:  0.988\n",
      "Confusion matrix, without normalization\n"
     ]
    },
    {
     "data": {
      "image/png": "[encoded data removed]",
      "text/plain": [
       "<Figure size 432x288 with 2 Axes>"
      ]
     },
     "metadata": {
      "needs_background": "light"
     },
     "output_type": "display_data"
    }
   ],
   "source": [
    "from sklearn.naive_bayes import MultinomialNB\n",
    "clf = MultinomialNB(alpha=0) \n",
    "clf.fit(tfidf_train, y_train)\n",
    "pred = clf.predict(tfidf_test)\n",
    "score = metrics.accuracy_score(y_test, pred)\n",
    "\n",
    "print(\"accuracy:  %0.3f\" % score)\n",
    "cm = metrics.confusion_matrix(y_test, pred, labels=['AI_profile', 'Not_AI'])\n",
    "plot_confusion_matrix(cm, classes=['AI_profile', 'Not_AI'])"
   ]
  },
  {
   "cell_type": "markdown",
   "metadata": {},
   "source": [
    "## Testing logistic regression"
   ]
  },
  {
   "cell_type": "code",
   "execution_count": 16,
   "metadata": {},
   "outputs": [
    {
     "name": "stdout",
     "output_type": "stream",
     "text": [
      "Logistic Regression\n",
      "accuracy:  0.992\n",
      "Confusion matrix, without normalization\n"
     ]
    },
    {
     "data": {
      "image/png": "[encoded data removed]",
      "text/plain": [
       "<Figure size 432x288 with 2 Axes>"
      ]
     },
     "metadata": {
      "needs_background": "light"
     },
     "output_type": "display_data"
    }
   ],
   "source": [
    "from sklearn.linear_model import LogisticRegression\n",
    "from sklearn import metrics\n",
    "\n",
    "clf =LogisticRegression()\n",
    "clf.fit(tfidf_train, y_train)\n",
    "pred = clf.predict(tfidf_test)\n",
    "score = metrics.accuracy_score(y_test, pred)\n",
    "\n",
    "print(\"Logistic Regression\")\n",
    "print(\"accuracy:  %0.3f\" % score)\n",
    "cm = metrics.confusion_matrix(y_test, pred, labels=['AI_profile', 'Not_AI'])\n",
    "plot_confusion_matrix(cm, classes=['AI_profile', 'Not_AI'])"
   ]
  },
  {
   "cell_type": "markdown",
   "metadata": {},
   "source": [
    "## with Bags of words"
   ]
  },
  {
   "cell_type": "code",
   "execution_count": 26,
   "metadata": {},
   "outputs": [
    {
     "name": "stdout",
     "output_type": "stream",
     "text": [
      "Logistic Regression\n",
      "accuracy:  0.997\n",
      "Confusion matrix, without normalization\n"
     ]
    },
    {
     "data": {
      "image/png": "[encoded data removed]",
      "text/plain": [
       "<Figure size 432x288 with 2 Axes>"
      ]
     },
     "metadata": {
      "needs_background": "light"
     },
     "output_type": "display_data"
    }
   ],
   "source": [
    "clf =LogisticRegression()\n",
    "clf.fit(count_train, y_train)\n",
    "pred = clf.predict(count_test)\n",
    "score = metrics.accuracy_score(y_test, pred)\n",
    "\n",
    "print(\"Logistic Regression\")\n",
    "print(\"accuracy:  %0.3f\" % score)\n",
    "cm = metrics.confusion_matrix(y_test, pred, labels=['AI_profile', 'Not_AI'])\n",
    "plot_confusion_matrix(cm, classes=['AI_profile', 'Not_AI'])"
   ]
  },
  {
   "cell_type": "markdown",
   "metadata": {
    "slideshow": {
     "slide_type": "skip"
    }
   },
   "source": [
    "# Testing Linear SVM Models\n",
    "\n",
    "\n",
    "**Some references:**\n",
    "\n",
    "- Support Vector Machine doc on scikit: http://scikit-learn.org/stable/modules/svm.html\n",
    "- Pretty detailed also on wikipedia: https://en.wikipedia.org/wiki/Support_vector_machine\n",
    "\n",
    "\n",
    "ROC:\n",
    "No ROC possible with SVM but\n",
    "https://scikit-learn.org/stable/auto_examples/model_selection/plot_precision_recall.html#sphx-glr-auto-examples-model-selection-plot-precision-recall-py"
   ]
  },
  {
   "cell_type": "markdown",
   "metadata": {},
   "source": [
    "### Linear Support Vector Machine with TFIDF"
   ]
  },
  {
   "cell_type": "code",
   "execution_count": 18,
   "metadata": {},
   "outputs": [
    {
     "name": "stdout",
     "output_type": "stream",
     "text": [
      "Running Time: confusion matrix started at: 06:12:16 04/24/19\n",
      "Running Time: ended at: 06:14:07 04/24/19\n",
      "accuracy:   0.996\n",
      "Confusion matrix, without normalization\n"
     ]
    },
    {
     "data": {
      "image/png": "[encoded data removed]",
      "text/plain": [
       "<Figure size 432x288 with 2 Axes>"
      ]
     },
     "metadata": {
      "needs_background": "light"
     },
     "output_type": "display_data"
    }
   ],
   "source": [
    "from sklearn.svm import SVC\n",
    "import time\n",
    "print('Running Time: confusion matrix started at:',time.strftime('%X %x'))\n",
    "clf = SVC(probability=True, kernel='linear')\n",
    "clf.fit(tfidf_train, y_train)\n",
    "pred = clf.predict(tfidf_test)\n",
    "score = metrics.accuracy_score(y_test, pred)\n",
    "cm = metrics.confusion_matrix(y_test, pred, labels=['AI_profile', 'Not_AI'])\n",
    "print('Running Time: ended at:',time.strftime('%X %x'))\n",
    "print(\"accuracy:   %0.3f\" % score)\n",
    "plot_confusion_matrix(cm, classes=['AI_profile', 'Not_AI'])"
   ]
  },
  {
   "cell_type": "markdown",
   "metadata": {},
   "source": [
    "### Linear Support Vector Machine with bags of words model"
   ]
  },
  {
   "cell_type": "code",
   "execution_count": 27,
   "metadata": {},
   "outputs": [
    {
     "name": "stdout",
     "output_type": "stream",
     "text": [
      "Running Time: confusion matrix started at: 06:19:21 04/24/19\n",
      "Running Time: ended at: 06:20:09 04/24/19\n",
      "accuracy:   0.997\n",
      "Confusion matrix, without normalization\n"
     ]
    },
    {
     "data": {
      "image/png": "[encoded data removed]",
      "text/plain": [
       "<Figure size 432x288 with 2 Axes>"
      ]
     },
     "metadata": {
      "needs_background": "light"
     },
     "output_type": "display_data"
    }
   ],
   "source": [
    "from sklearn.svm import SVC\n",
    "import time\n",
    "from sklearn import metrics\n",
    "print('Running Time: confusion matrix started at:',time.strftime('%X %x'))\n",
    "clf = SVC(probability=True, kernel='linear')\n",
    "clf.fit(count_train, y_train)\n",
    "pred = clf.predict(count_test)\n",
    "score = metrics.accuracy_score(y_test, pred)\n",
    "cm = metrics.confusion_matrix(y_test, pred, labels=['AI_profile', 'Not_AI'])\n",
    "\n",
    "print('Running Time: ended at:',time.strftime('%X %x'))\n",
    "print(\"accuracy:   %0.3f\" % score)\n",
    "plot_confusion_matrix(cm, classes=['AI_profile', 'Not_AI'])"
   ]
  },
  {
   "cell_type": "markdown",
   "metadata": {},
   "source": [
    "# Other metric and discussion \n",
    "\n",
    "https://scikit-learn.org/stable/modules/generated/sklearn.metrics.classification_report.html"
   ]
  },
  {
   "cell_type": "code",
   "execution_count": 15,
   "metadata": {},
   "outputs": [
    {
     "name": "stdout",
     "output_type": "stream",
     "text": [
      "             precision    recall  f1-score   support\n",
      "\n",
      " AI_profile       1.00      1.00      1.00      2009\n",
      "     Not_AI       1.00      0.99      1.00       849\n",
      "\n",
      "avg / total       1.00      1.00      1.00      2858\n",
      "\n",
      "0.9972008397480756\n"
     ]
    }
   ],
   "source": [
    "from sklearn.metrics import classification_report, confusion_matrix, accuracy_score\n",
    "print(classification_report(y_test,pred))  \n",
    "print(accuracy_score(y_test, pred))  "
   ]
  },
  {
   "cell_type": "markdown",
   "metadata": {},
   "source": [
    "--- "
   ]
  },
  {
   "cell_type": "markdown",
   "metadata": {
    "slideshow": {
     "slide_type": "slide"
    }
   },
   "source": [
    "# Features analysis\n",
    "\n",
    "To inspect our features we can print the most informative ones and check if the variable the more at play for separating the two classes make sens.."
   ]
  },
  {
   "cell_type": "code",
   "execution_count": 9,
   "metadata": {},
   "outputs": [
    {
     "data": {
      "text/plain": [
       "LinearSVC(C=1.0, class_weight=None, dual=True, fit_intercept=True,\n",
       "     intercept_scaling=1, loss='squared_hinge', max_iter=1000,\n",
       "     multi_class='ovr', penalty='l2', random_state=None, tol=0.0001,\n",
       "     verbose=0)"
      ]
     },
     "execution_count": 9,
     "metadata": {},
     "output_type": "execute_result"
    }
   ],
   "source": [
    "from sklearn.svm import LinearSVC\n",
    "from sklearn import metrics\n",
    "svc_tfidf_clf = LinearSVC()\n",
    "svc_tfidf_clf.fit(tfidf_train, y_train)"
   ]
  },
  {
   "cell_type": "code",
   "execution_count": 12,
   "metadata": {
    "slideshow": {
     "slide_type": "skip"
    }
   },
   "outputs": [
    {
     "data": {
      "text/plain": [
       "{'AI_profile': [(-1.9145354000261754, 'engineer'),\n",
       "  (-1.65012964872895, 'scientist'),\n",
       "  (-1.5059137317929978, 'engineers'),\n",
       "  (-1.2598064012245551, 'research'),\n",
       "  (-1.1803831238455333, 'python'),\n",
       "  (-0.9747670983992747, 'delivery'),\n",
       "  (-0.9723389089083536, 'engineering'),\n",
       "  (-0.9036139669905278, 'statistics'),\n",
       "  (-0.8730507835907059, 'systems'),\n",
       "  (-0.8688796229388313, 'design'),\n",
       "  (-0.8328123293813997, 'development'),\n",
       "  (-0.8027224129423047, 'java'),\n",
       "  (-0.7835691947848882, 'yoshimura'),\n",
       "  (-0.7792597148709864, 'test'),\n",
       "  (-0.7459026542595943, 'programming'),\n",
       "  (-0.7394696598220916, 'techniques'),\n",
       "  (-0.7077059333859712, 'researcher'),\n",
       "  (-0.7034329833775941, 'deep'),\n",
       "  (-0.6673393142485441, 'algorithms'),\n",
       "  (-0.6509524858806823, 'scalability'),\n",
       "  (-0.6307620737917745, 'computer'),\n",
       "  (-0.6009065246789608, 'health'),\n",
       "  (-0.576876886167871, 'inference'),\n",
       "  (-0.564272508086367, 'statistical'),\n",
       "  (-0.5620539904957711, 'softwareziprecruiter'),\n",
       "  (-0.5545876143782019, 'bayesian'),\n",
       "  (-0.5480354826442875, 'distributed'),\n",
       "  (-0.5375277764955683, 'google'),\n",
       "  (-0.5289431814269121, 'lab'),\n",
       "  (-0.5271499330670478, 'code'),\n",
       "  (-0.5207599794586882, 'startup'),\n",
       "  (-0.5158275265424741, 'infrastructure'),\n",
       "  (-0.5025589424248132, 'benefits'),\n",
       "  (-0.4897068266044382, 'web'),\n",
       "  (-0.4872884855864583, 'perl'),\n",
       "  (-0.4848095835263895, 'hadoop'),\n",
       "  (-0.47765658409769524, 'manufacturing'),\n",
       "  (-0.47568032050969294, 'cmmi'),\n",
       "  (-0.46548439751468235, 'source'),\n",
       "  (-0.46523644623808974, 'model'),\n",
       "  (-0.46489966230648977, 'bf'),\n",
       "  (-0.4601314684960382, 'adzuna'),\n",
       "  (-0.4590673783969932, 'engine'),\n",
       "  (-0.4562153220729052, 'matlab'),\n",
       "  (-0.45366375572846895, 'search')],\n",
       " 'Not_AI': [(0.6176385485941671, 'recruiter'),\n",
       "  (0.6195268969969375, 'label'),\n",
       "  (0.6253899040599281, 'student'),\n",
       "  (0.6308287083636936, 'cataneo'),\n",
       "  (0.6339985212385059, 'written'),\n",
       "  (0.6573313839401254, 'architect'),\n",
       "  (0.6624757839700017, 'speaking'),\n",
       "  (0.6627855111553946, 'functional'),\n",
       "  (0.6665906652989707, 'content'),\n",
       "  (0.6692665114905896, 'pinterest'),\n",
       "  (0.671142977222379, 'commission'),\n",
       "  (0.6712595344222588, 'consultant'),\n",
       "  (0.6894862266820858, 'account'),\n",
       "  (0.6907289513468844, 'developer'),\n",
       "  (0.7011674476446101, 'crm'),\n",
       "  (0.7233350733157737, 'process'),\n",
       "  (0.7434845550802395, 'competition'),\n",
       "  (0.7452943050362162, 'fintech'),\n",
       "  (0.7516337009690409, 'technical'),\n",
       "  (0.7583374004476789, 'clients'),\n",
       "  (0.7619307914765175, 'al'),\n",
       "  (0.7632620816792384, 'radiance'),\n",
       "  (0.7772260669429076, 'salem'),\n",
       "  (0.7855504256421385, 'good'),\n",
       "  (0.7896981281281839, 'sonuma'),\n",
       "  (0.7989292272584316, 'characterize'),\n",
       "  (0.8409128273188775, 'recruiting'),\n",
       "  (0.9374434702337472, 'marketing'),\n",
       "  (0.9422649379908621, 'customer'),\n",
       "  (0.9468252127891343, 'success'),\n",
       "  (0.9659292183792798, 'speaker'),\n",
       "  (1.0140478582458086, 'french'),\n",
       "  (1.0592218093434767, 'volunteer'),\n",
       "  (1.0975328849093766, 'consulting'),\n",
       "  (1.1007617778890513, 'leadership'),\n",
       "  (1.127264835815247, 'exploitation'),\n",
       "  (1.221022477854705, 'european'),\n",
       "  (1.223911835834333, 'evangelist'),\n",
       "  (1.2577520896554792, 'hiring'),\n",
       "  (1.4383245191639262, 'salesforce'),\n",
       "  (1.5152225468071336, 'manager'),\n",
       "  (1.631053699887267, 'management'),\n",
       "  (1.8897796924504748, 'business'),\n",
       "  (2.1757731736489108, 'product'),\n",
       "  (4.019619126938412, 'sales')]}"
      ]
     },
     "execution_count": 12,
     "metadata": {},
     "output_type": "execute_result"
    }
   ],
   "source": [
    "# use python 3.5 or less for this.. error in handeling the dict with python 3.6\n",
    "def most_informative_feature_for_binary_classification(vectorizer, classifier, n=45):\n",
    "    class_labels = classifier.classes_\n",
    "    feature_names = vectorizer.get_feature_names()\n",
    "    topn_class1 = sorted(zip(classifier.coef_[0], feature_names))[:n]\n",
    "    topn_class2 = sorted(zip(classifier.coef_[0], feature_names))[-n:]\n",
    "\n",
    "    return {class_labels[0]: topn_class1,\n",
    "            class_labels[1]: topn_class2\n",
    "    }\n",
    "\n",
    "most_informative_feature_for_binary_classification(tfidf_vectorizer, svc_tfidf_clf, n=45)"
   ]
  },
  {
   "cell_type": "markdown",
   "metadata": {},
   "source": [
    "## Inspecting the features\n",
    "\n",
    "All that makes sens, but the names of two companies (Yoshimura & softwareziprecruiter) appearing so high in the top informative feature is worth investgating"
   ]
  },
  {
   "cell_type": "code",
   "execution_count": 13,
   "metadata": {},
   "outputs": [
    {
     "name": "stdout",
     "output_type": "stream",
     "text": [
      "22\n"
     ]
    },
    {
     "data": {
      "text/html": [
       "<div>\n",
       "<style scoped>\n",
       "    .dataframe tbody tr th:only-of-type {\n",
       "        vertical-align: middle;\n",
       "    }\n",
       "\n",
       "    .dataframe tbody tr th {\n",
       "        vertical-align: top;\n",
       "    }\n",
       "\n",
       "    .dataframe thead th {\n",
       "        text-align: right;\n",
       "    }\n",
       "</style>\n",
       "<table border=\"1\" class=\"dataframe\">\n",
       "  <thead>\n",
       "    <tr style=\"text-align: right;\">\n",
       "      <th></th>\n",
       "      <th>class</th>\n",
       "      <th>profile_content</th>\n",
       "    </tr>\n",
       "  </thead>\n",
       "  <tbody>\n",
       "    <tr>\n",
       "      <th>4380</th>\n",
       "      <td>AI_profile</td>\n",
       "      <td>vp product engineering machine learning produc...</td>\n",
       "    </tr>\n",
       "    <tr>\n",
       "      <th>4448</th>\n",
       "      <td>AI_profile</td>\n",
       "      <td>vp product engineering machine learning produc...</td>\n",
       "    </tr>\n",
       "    <tr>\n",
       "      <th>4678</th>\n",
       "      <td>AI_profile</td>\n",
       "      <td>vp product engineering machine learning produc...</td>\n",
       "    </tr>\n",
       "    <tr>\n",
       "      <th>5344</th>\n",
       "      <td>AI_profile</td>\n",
       "      <td>data scientist artificial intelligence predict...</td>\n",
       "    </tr>\n",
       "    <tr>\n",
       "      <th>5673</th>\n",
       "      <td>AI_profile</td>\n",
       "      <td>vp product engineering machine learning produc...</td>\n",
       "    </tr>\n",
       "    <tr>\n",
       "      <th>6586</th>\n",
       "      <td>AI_profile</td>\n",
       "      <td>vp product engineering machine learning produc...</td>\n",
       "    </tr>\n",
       "    <tr>\n",
       "      <th>6686</th>\n",
       "      <td>AI_profile</td>\n",
       "      <td>vp product engineering machine learning produc...</td>\n",
       "    </tr>\n",
       "    <tr>\n",
       "      <th>6781</th>\n",
       "      <td>AI_profile</td>\n",
       "      <td>data scientist artificial intelligence predict...</td>\n",
       "    </tr>\n",
       "    <tr>\n",
       "      <th>6896</th>\n",
       "      <td>AI_profile</td>\n",
       "      <td>data scientist artificial intelligence predict...</td>\n",
       "    </tr>\n",
       "    <tr>\n",
       "      <th>7315</th>\n",
       "      <td>AI_profile</td>\n",
       "      <td>data scientist artificial intelligence predict...</td>\n",
       "    </tr>\n",
       "    <tr>\n",
       "      <th>7335</th>\n",
       "      <td>AI_profile</td>\n",
       "      <td>data scientist artificial intelligence predict...</td>\n",
       "    </tr>\n",
       "    <tr>\n",
       "      <th>7825</th>\n",
       "      <td>AI_profile</td>\n",
       "      <td>vp product engineering machine learning produc...</td>\n",
       "    </tr>\n",
       "    <tr>\n",
       "      <th>8260</th>\n",
       "      <td>AI_profile</td>\n",
       "      <td>vp product engineering machine learning produc...</td>\n",
       "    </tr>\n",
       "    <tr>\n",
       "      <th>8435</th>\n",
       "      <td>AI_profile</td>\n",
       "      <td>data scientist artificial intelligence predict...</td>\n",
       "    </tr>\n",
       "    <tr>\n",
       "      <th>8441</th>\n",
       "      <td>AI_profile</td>\n",
       "      <td>data scientist artificial intelligence predict...</td>\n",
       "    </tr>\n",
       "    <tr>\n",
       "      <th>8606</th>\n",
       "      <td>AI_profile</td>\n",
       "      <td>data scientist artificial intelligence predict...</td>\n",
       "    </tr>\n",
       "    <tr>\n",
       "      <th>10344</th>\n",
       "      <td>AI_profile</td>\n",
       "      <td>data scientist artificial intelligence predict...</td>\n",
       "    </tr>\n",
       "    <tr>\n",
       "      <th>12329</th>\n",
       "      <td>AI_profile</td>\n",
       "      <td>vp product engineering machine learning produc...</td>\n",
       "    </tr>\n",
       "    <tr>\n",
       "      <th>12456</th>\n",
       "      <td>AI_profile</td>\n",
       "      <td>data scientist artificial intelligence predict...</td>\n",
       "    </tr>\n",
       "    <tr>\n",
       "      <th>13342</th>\n",
       "      <td>AI_profile</td>\n",
       "      <td>data scientist artificial intelligence predict...</td>\n",
       "    </tr>\n",
       "    <tr>\n",
       "      <th>13621</th>\n",
       "      <td>AI_profile</td>\n",
       "      <td>vp product engineering machine learning produc...</td>\n",
       "    </tr>\n",
       "    <tr>\n",
       "      <th>13654</th>\n",
       "      <td>AI_profile</td>\n",
       "      <td>vp product engineering machine learning produc...</td>\n",
       "    </tr>\n",
       "  </tbody>\n",
       "</table>\n",
       "</div>"
      ],
      "text/plain": [
       "            class                                    profile_content\n",
       "4380   AI_profile  vp product engineering machine learning produc...\n",
       "4448   AI_profile  vp product engineering machine learning produc...\n",
       "4678   AI_profile  vp product engineering machine learning produc...\n",
       "5344   AI_profile  data scientist artificial intelligence predict...\n",
       "5673   AI_profile  vp product engineering machine learning produc...\n",
       "6586   AI_profile  vp product engineering machine learning produc...\n",
       "6686   AI_profile  vp product engineering machine learning produc...\n",
       "6781   AI_profile  data scientist artificial intelligence predict...\n",
       "6896   AI_profile  data scientist artificial intelligence predict...\n",
       "7315   AI_profile  data scientist artificial intelligence predict...\n",
       "7335   AI_profile  data scientist artificial intelligence predict...\n",
       "7825   AI_profile  vp product engineering machine learning produc...\n",
       "8260   AI_profile  vp product engineering machine learning produc...\n",
       "8435   AI_profile  data scientist artificial intelligence predict...\n",
       "8441   AI_profile  data scientist artificial intelligence predict...\n",
       "8606   AI_profile  data scientist artificial intelligence predict...\n",
       "10344  AI_profile  data scientist artificial intelligence predict...\n",
       "12329  AI_profile  vp product engineering machine learning produc...\n",
       "12456  AI_profile  data scientist artificial intelligence predict...\n",
       "13342  AI_profile  data scientist artificial intelligence predict...\n",
       "13621  AI_profile  vp product engineering machine learning produc...\n",
       "13654  AI_profile  vp product engineering machine learning produc..."
      ]
     },
     "execution_count": 13,
     "metadata": {},
     "output_type": "execute_result"
    }
   ],
   "source": [
    "yoshi=df[df['profile_content'].str.contains(\"yoshimura\")]\n",
    "print(len(yoshi))\n",
    "yoshi"
   ]
  },
  {
   "cell_type": "markdown",
   "metadata": {},
   "source": [
    "Overall Yoshimura appear in 22 entries (see below) while Softwareziprecruiter appears in 6 entries.These entries seems legit and does correspond to an AI profile.\n"
   ]
  },
  {
   "cell_type": "code",
   "execution_count": 14,
   "metadata": {
    "scrolled": true
   },
   "outputs": [
    {
     "name": "stdout",
     "output_type": "stream",
     "text": [
      "vp product engineering machine learning product scalability end end proprietary platform equal opportunity employerall qualified applicants  person funded startup tackle electrical measurements scale asaptop reasons competitive pay k word tolooking forward email subject line vp product engineering  engineers product scalabilitywhat protected veteran status industrial iot experience product scalability characteristic protected machine learning gas companies apply today clicking apply colby yoshimura executive recruiter receive consideration national origin federal law persons hired verify identity united states yoshimura cybercoders experience cybercoders positionmore kb  application considered cybercodersapplicants authorized employment disability compliance eligibility ruby rails market research mobile technology medical devices perl cloud computing design experiments paas agile methodologies product strategy embedded systems talent management virtualization semiconductors direct sales employee relations design manufacturing enterprise software email marketing product design web applications start ups social media marketing product management product marketing vendor management solution selling requirements analysis web services architecture software design competitive analysis strategy distributed systems mobile applications software development life cycle sdlc market strategy service oriented architecture soa scrum agile project management engineering management solution architecture pre sales product engineering enterprise architecture software service saas strategic partnerships software project management machine learning scalability\n",
      "vp product engineering machine learning product scalability end end proprietary platform equal opportunity employerall qualified applicants  person funded startup tackle electrical measurements scale asaptop reasons competitive pay k word tolooking forward email subject line vp product engineering  engineers product scalabilitywhat protected veteran status industrial iot experience product scalability characteristic protected machine learning gas companies apply today clicking apply colby yoshimura executive recruiter receive consideration national origin federal law persons hired verify identity united states yoshimura cybercoders experience cybercoders positionmore kb  application considered cybercodersapplicants authorized employment disability compliance eligibility ruby rails market research mobile technology medical devices perl cloud computing design experiments paas agile methodologies product strategy embedded systems talent management virtualization semiconductors direct sales employee relations design manufacturing enterprise software email marketing product design web applications start ups social media marketing product management product marketing vendor management solution selling requirements analysis web services architecture software design competitive analysis strategy distributed systems mobile applications software development life cycle sdlc market strategy service oriented architecture soa scrum agile project management engineering management solution architecture pre sales product engineering enterprise architecture software service saas strategic partnerships software project management machine learning scalability\n",
      "vp product engineering machine learning product scalability end end proprietary platform equal opportunity employerall qualified applicants  person funded startup tackle electrical measurements scale asaptop reasons competitive pay k word tolooking forward email subject line vp product engineering  engineers product scalabilitywhat protected veteran status industrial iot experience product scalability characteristic protected machine learning gas companies apply today clicking apply colby yoshimura executive recruiter receive consideration national origin federal law persons hired verify identity united states yoshimura cybercoders experience cybercoders positionmore kb  application considered cybercodersapplicants authorized employment disability compliance eligibility ruby rails market research mobile technology medical devices perl cloud computing design experiments paas agile methodologies product strategy embedded systems talent management virtualization semiconductors direct sales employee relations design manufacturing enterprise software email marketing product design web applications start ups social media marketing product management product marketing vendor management solution selling requirements analysis web services architecture software design competitive analysis strategy distributed systems mobile applications software development life cycle sdlc market strategy service oriented architecture soa scrum agile project management engineering management solution architecture pre sales product engineering enterprise architecture software service saas strategic partnerships software project management machine learning scalability\n",
      "data scientist artificial intelligence predictive analytics equal opportunity employerall qualified applicants artificial intelligence driven software healthcare organizations valuable insight bringing predictive analytics make real time word tolooking forward email subject line cy  nashville protected veteran status characteristic protected provide medical actionable decisions data scientist apply today clicking apply colby yoshimura executive recruiter receive consideration national origin federal law persons hired verify identity united states yoshimura cybercoders cybercoders positionmore experience application considered cybercodersapplicants authorized employment disability compliance eligibility multivariate statistics multivariate analysis cluster analysis anomaly detection web scraping hive artificial neural networks data visualization statistical computing rapidminer data munging regression analysis decision trees supervised learning random forest weka support vector machine svm nltk jupyter neural networks linear regression data wrangling text analytics tensorflow logistic regression matplotlib regression models time series analysis numpy unsupervised learning recommender systems exploratory data analysis scipy statistical modeling data mining deep learning natural language processing nlp apache spark keras bayesian statistics text mining predictive modeling pandas software shiny pyspark scikit learn machine learning data science artificial intelligence ai predictive analytics\n",
      "vp product engineering machine learning product scalability end end proprietary platform equal opportunity employerall qualified applicants  person funded startup tackle electrical measurements scale asaptop reasons competitive pay k word tolooking forward email subject line vp product engineering  engineers product scalabilitywhat protected veteran status industrial iot experience product scalability characteristic protected machine learning gas companies apply today clicking apply colby yoshimura executive recruiter receive consideration national origin federal law persons hired verify identity united states yoshimura cybercoders experience cybercoders positionmore kb  application considered cybercodersapplicants authorized employment disability compliance eligibility ruby rails market research mobile technology medical devices perl cloud computing design experiments paas agile methodologies product strategy embedded systems talent management virtualization semiconductors direct sales employee relations design manufacturing enterprise software email marketing product design web applications start ups social media marketing product management product marketing vendor management solution selling requirements analysis web services architecture software design competitive analysis strategy distributed systems mobile applications software development life cycle sdlc market strategy service oriented architecture soa scrum agile project management engineering management solution architecture pre sales product engineering enterprise architecture software service saas strategic partnerships software project management machine learning scalability\n",
      "vp product engineering machine learning product scalability end end proprietary platform equal opportunity employerall qualified applicants  person funded startup tackle electrical measurements scale asaptop reasons competitive pay k word tolooking forward email subject line vp product engineering  engineers product scalabilitywhat protected veteran status industrial iot experience product scalability characteristic protected machine learning gas companies apply today clicking apply colby yoshimura executive recruiter receive consideration national origin federal law persons hired verify identity united states yoshimura cybercoders experience cybercoders positionmore kb  application considered cybercodersapplicants authorized employment disability compliance eligibility ruby rails market research mobile technology medical devices perl cloud computing design experiments paas agile methodologies product strategy embedded systems talent management virtualization semiconductors direct sales employee relations design manufacturing enterprise software email marketing product design web applications start ups social media marketing product management product marketing vendor management solution selling requirements analysis web services architecture software design competitive analysis strategy distributed systems mobile applications software development life cycle sdlc market strategy service oriented architecture soa scrum agile project management engineering management solution architecture pre sales product engineering enterprise architecture software service saas strategic partnerships software project management machine learning scalability\n",
      "vp product engineering machine learning product scalability end end proprietary platform equal opportunity employerall qualified applicants  person funded startup tackle electrical measurements scale asaptop reasons competitive pay k word tolooking forward email subject line vp product engineering  engineers product scalabilitywhat protected veteran status industrial iot experience product scalability characteristic protected machine learning gas companies apply today clicking apply colby yoshimura executive recruiter receive consideration national origin federal law persons hired verify identity united states yoshimura cybercoders experience cybercoders positionmore kb  application considered cybercodersapplicants authorized employment disability compliance eligibility ruby rails market research mobile technology medical devices perl cloud computing design experiments paas agile methodologies product strategy embedded systems talent management virtualization semiconductors direct sales employee relations design manufacturing enterprise software email marketing product design web applications start ups social media marketing product management product marketing vendor management solution selling requirements analysis web services architecture software design competitive analysis strategy distributed systems mobile applications software development life cycle sdlc market strategy service oriented architecture soa scrum agile project management engineering management solution architecture pre sales product engineering enterprise architecture software service saas strategic partnerships software project management machine learning scalability\n",
      "data scientist artificial intelligence predictive analytics equal opportunity employerall qualified applicants artificial intelligence driven software healthcare organizations valuable insight bringing predictive analytics make real time word tolooking forward email subject line cy  nashville protected veteran status characteristic protected provide medical actionable decisions data scientist apply today clicking apply colby yoshimura executive recruiter receive consideration national origin federal law persons hired verify identity united states yoshimura cybercoders cybercoders positionmore experience application considered cybercodersapplicants authorized employment disability compliance eligibility multivariate statistics multivariate analysis cluster analysis anomaly detection web scraping hive artificial neural networks data visualization statistical computing rapidminer data munging regression analysis decision trees supervised learning random forest weka support vector machine svm nltk jupyter neural networks linear regression data wrangling text analytics tensorflow logistic regression matplotlib regression models time series analysis numpy unsupervised learning recommender systems exploratory data analysis scipy statistical modeling data mining deep learning natural language processing nlp apache spark keras bayesian statistics text mining predictive modeling pandas software shiny pyspark scikit learn machine learning data science artificial intelligence ai predictive analytics\n",
      "data scientist artificial intelligence predictive analytics equal opportunity employerall qualified applicants artificial intelligence driven software healthcare organizations valuable insight bringing predictive analytics make real time word tolooking forward email subject line cy  nashville protected veteran status characteristic protected provide medical actionable decisions data scientist apply today clicking apply colby yoshimura executive recruiter receive consideration national origin federal law persons hired verify identity united states yoshimura cybercoders cybercoders positionmore experience application considered cybercodersapplicants authorized employment disability compliance eligibility multivariate statistics multivariate analysis cluster analysis anomaly detection web scraping hive artificial neural networks data visualization statistical computing rapidminer data munging regression analysis decision trees supervised learning random forest weka support vector machine svm nltk jupyter neural networks linear regression data wrangling text analytics tensorflow logistic regression matplotlib regression models time series analysis numpy unsupervised learning recommender systems exploratory data analysis scipy statistical modeling data mining deep learning natural language processing nlp apache spark keras bayesian statistics text mining predictive modeling pandas software shiny pyspark scikit learn machine learning data science artificial intelligence ai predictive analytics\n",
      "data scientist artificial intelligence predictive analytics equal opportunity employerall qualified applicants artificial intelligence driven software healthcare organizations valuable insight bringing predictive analytics make real time word tolooking forward email subject line cy  nashville protected veteran status characteristic protected provide medical actionable decisions data scientist apply today clicking apply colby yoshimura executive recruiter receive consideration national origin federal law persons hired verify identity united states yoshimura cybercoders cybercoders positionmore experience application considered cybercodersapplicants authorized employment disability compliance eligibility multivariate statistics multivariate analysis cluster analysis anomaly detection web scraping hive artificial neural networks data visualization statistical computing rapidminer data munging regression analysis decision trees supervised learning random forest weka support vector machine svm nltk jupyter neural networks linear regression data wrangling text analytics tensorflow logistic regression matplotlib regression models time series analysis numpy unsupervised learning recommender systems exploratory data analysis scipy statistical modeling data mining deep learning natural language processing nlp apache spark keras bayesian statistics text mining predictive modeling pandas software shiny pyspark scikit learn machine learning data science artificial intelligence ai predictive analytics\n",
      "data scientist artificial intelligence predictive analytics equal opportunity employerall qualified applicants los angeles fair chance initiative los angeles qualified applicants artificial intelligence driven software healthcare organizations valuable insight bringing predictive analytics make real time word tolooking forward email subject line cy  nashville protected veteran status characteristic protected provide medical actionable decisions data scientist apply today clicking apply colby yoshimura executive recruiter receive consideration national origin federal law persons hired verify identity united states criminal histories manner consistent yoshimura cybercoders cybercoders positionmore experience application considered cybercodersapplicants authorized employment disability compliance eligibility requirements multivariate statistics multivariate analysis cluster analysis anomaly detection web scraping hive artificial neural networks data visualization statistical computing rapidminer data munging regression analysis decision trees supervised learning random forest weka support vector machine svm nltk jupyter neural networks linear regression data wrangling text analytics tensorflow logistic regression matplotlib regression models time series analysis numpy unsupervised learning recommender systems exploratory data analysis scipy statistical modeling data mining deep learning natural language processing nlp apache spark keras bayesian statistics text mining predictive modeling pandas software shiny pyspark scikit learn machine learning data science artificial intelligence ai predictive analytics\n",
      "vp product engineering machine learning product scalability end end proprietary platform equal opportunity employerall qualified applicants  person funded startup tackle electrical measurements scale asaptop reasons competitive pay k word tolooking forward email subject line vp product engineering  engineers product scalabilitywhat protected veteran status industrial iot experience product scalability characteristic protected machine learning gas companies apply today clicking apply colby yoshimura executive recruiter receive consideration national origin federal law persons hired verify identity united states yoshimura cybercoders experience cybercoders positionmore kb  application considered cybercodersapplicants authorized employment disability compliance eligibility ruby rails market research mobile technology medical devices perl cloud computing design experiments paas agile methodologies product strategy embedded systems talent management virtualization semiconductors direct sales employee relations design manufacturing enterprise software email marketing product design web applications start ups social media marketing product management product marketing vendor management solution selling requirements analysis web services architecture software design competitive analysis strategy distributed systems mobile applications software development life cycle sdlc market strategy service oriented architecture soa scrum agile project management engineering management solution architecture pre sales product engineering enterprise architecture software service saas strategic partnerships software project management machine learning scalability\n",
      "vp product engineering machine learning product scalability end end proprietary platform equal opportunity employerall qualified applicants  person funded startup tackle electrical measurements scale asaptop reasons competitive pay k word tolooking forward email subject line vp product engineering  engineers product scalabilitywhat protected veteran status industrial iot experience product scalability characteristic protected machine learning gas companies apply today clicking apply colby yoshimura executive recruiter receive consideration national origin federal law persons hired verify identity united states yoshimura cybercoders experience cybercoders positionmore kb  application considered cybercodersapplicants authorized employment disability compliance eligibility ruby rails market research mobile technology medical devices perl cloud computing design experiments paas agile methodologies product strategy embedded systems talent management virtualization semiconductors direct sales employee relations design manufacturing enterprise software email marketing product design web applications start ups social media marketing product management product marketing vendor management solution selling requirements analysis web services architecture software design competitive analysis strategy distributed systems mobile applications software development life cycle sdlc market strategy service oriented architecture soa scrum agile project management engineering management solution architecture pre sales product engineering enterprise architecture software service saas strategic partnerships software project management machine learning scalability\n",
      "data scientist artificial intelligence predictive analytics equal opportunity employerall qualified applicants artificial intelligence driven software healthcare organizations valuable insight bringing predictive analytics make real time word tolooking forward email subject line cy  nashville protected veteran status characteristic protected provide medical actionable decisions data scientist apply today clicking apply colby yoshimura executive recruiter receive consideration national origin federal law persons hired verify identity united states yoshimura cybercoders cybercoders positionmore experience application considered cybercodersapplicants authorized employment disability compliance eligibility multivariate statistics multivariate analysis cluster analysis anomaly detection web scraping hive artificial neural networks data visualization statistical computing rapidminer data munging regression analysis decision trees supervised learning random forest weka support vector machine svm nltk jupyter neural networks linear regression data wrangling text analytics tensorflow logistic regression matplotlib regression models time series analysis numpy unsupervised learning recommender systems exploratory data analysis scipy statistical modeling data mining deep learning natural language processing nlp apache spark keras bayesian statistics text mining predictive modeling pandas software shiny pyspark scikit learn machine learning data science artificial intelligence ai predictive analytics\n",
      "data scientist artificial intelligence predictive analytics equal opportunity employerall qualified applicants los angeles fair chance initiative los angeles qualified applicants artificial intelligence driven software healthcare organizations valuable insight bringing predictive analytics make real time word tolooking forward email subject line cy  nashville protected veteran status characteristic protected provide medical actionable decisions data scientist apply today clicking apply colby yoshimura executive recruiter receive consideration national origin federal law persons hired verify identity united states criminal histories manner consistent yoshimura cybercoders cybercoders positionmore experience application considered cybercodersapplicants authorized employment disability compliance eligibility requirements multivariate statistics multivariate analysis cluster analysis anomaly detection web scraping hive artificial neural networks data visualization statistical computing rapidminer data munging regression analysis decision trees supervised learning random forest weka support vector machine svm nltk jupyter neural networks linear regression data wrangling text analytics tensorflow logistic regression matplotlib regression models time series analysis numpy unsupervised learning recommender systems exploratory data analysis scipy statistical modeling data mining deep learning natural language processing nlp apache spark keras bayesian statistics text mining predictive modeling pandas software shiny pyspark scikit learn machine learning data science artificial intelligence ai predictive analytics\n",
      "data scientist artificial intelligence predictive analytics equal opportunity employerall qualified applicants artificial intelligence driven software healthcare organizations valuable insight bringing predictive analytics make real time word tolooking forward email subject line cy  nashville protected veteran status characteristic protected provide medical actionable decisions data scientist apply today clicking apply colby yoshimura executive recruiter receive consideration national origin federal law persons hired verify identity united states yoshimura cybercoders cybercoders positionmore experience application considered cybercodersapplicants authorized employment disability compliance eligibility multivariate statistics multivariate analysis cluster analysis anomaly detection web scraping hive artificial neural networks data visualization statistical computing rapidminer data munging regression analysis decision trees supervised learning random forest weka support vector machine svm nltk jupyter neural networks linear regression data wrangling text analytics tensorflow logistic regression matplotlib regression models time series analysis numpy unsupervised learning recommender systems exploratory data analysis scipy statistical modeling data mining deep learning natural language processing nlp apache spark keras bayesian statistics text mining predictive modeling pandas software shiny pyspark scikit learn machine learning data science artificial intelligence ai predictive analytics\n",
      "data scientist artificial intelligence predictive analytics equal opportunity employerall qualified applicants los angeles fair chance initiative los angeles qualified applicants artificial intelligence driven software healthcare organizations valuable insight bringing predictive analytics make real time word tolooking forward email subject line cy  nashville protected veteran status characteristic protected provide medical actionable decisions data scientist apply today clicking apply colby yoshimura executive recruiter receive consideration national origin federal law persons hired verify identity united states criminal histories manner consistent yoshimura cybercoders cybercoders positionmore experience application considered cybercodersapplicants authorized employment disability compliance eligibility requirements multivariate statistics multivariate analysis cluster analysis anomaly detection web scraping hive artificial neural networks data visualization statistical computing rapidminer data munging regression analysis decision trees supervised learning random forest weka support vector machine svm nltk jupyter neural networks linear regression data wrangling text analytics tensorflow logistic regression matplotlib regression models time series analysis numpy unsupervised learning recommender systems exploratory data analysis scipy statistical modeling data mining deep learning natural language processing nlp apache spark keras bayesian statistics text mining predictive modeling pandas software shiny pyspark scikit learn machine learning data science artificial intelligence ai predictive analytics\n",
      "vp product engineering machine learning product scalability end end proprietary platform equal opportunity employerall qualified applicants  person funded startup tackle electrical measurements scale asaptop reasons competitive pay k word tolooking forward email subject line vp product engineering  engineers product scalabilitywhat protected veteran status industrial iot experience product scalability characteristic protected machine learning gas companies apply today clicking apply colby yoshimura executive recruiter receive consideration national origin federal law persons hired verify identity united states yoshimura cybercoders experience cybercoders positionmore kb  application considered cybercodersapplicants authorized employment disability compliance eligibility ruby rails market research mobile technology medical devices perl cloud computing design experiments paas agile methodologies product strategy embedded systems talent management virtualization semiconductors direct sales employee relations design manufacturing enterprise software email marketing product design web applications start ups social media marketing product management product marketing vendor management solution selling requirements analysis web services architecture software design competitive analysis strategy distributed systems mobile applications software development life cycle sdlc market strategy service oriented architecture soa scrum agile project management engineering management solution architecture pre sales product engineering enterprise architecture software service saas strategic partnerships software project management machine learning scalability\n",
      "data scientist artificial intelligence predictive analytics equal opportunity employerall qualified applicants artificial intelligence driven software healthcare organizations valuable insight bringing predictive analytics make real time word tolooking forward email subject line cy  nashville protected veteran status characteristic protected provide medical actionable decisions data scientist apply today clicking apply colby yoshimura executive recruiter receive consideration national origin federal law persons hired verify identity united states yoshimura cybercoders cybercoders positionmore experience application considered cybercodersapplicants authorized employment disability compliance eligibility multivariate statistics multivariate analysis cluster analysis anomaly detection web scraping hive artificial neural networks data visualization statistical computing rapidminer data munging regression analysis decision trees supervised learning random forest weka support vector machine svm nltk jupyter neural networks linear regression data wrangling text analytics tensorflow logistic regression matplotlib regression models time series analysis numpy unsupervised learning recommender systems exploratory data analysis scipy statistical modeling data mining deep learning natural language processing nlp apache spark keras bayesian statistics text mining predictive modeling pandas software shiny pyspark scikit learn machine learning data science artificial intelligence ai predictive analytics\n",
      "data scientist artificial intelligence predictive analytics equal opportunity employerall qualified applicants artificial intelligence driven software healthcare organizations valuable insight bringing predictive analytics make real time word tolooking forward email subject line cy  nashville protected veteran status characteristic protected provide medical actionable decisions data scientist apply today clicking apply colby yoshimura executive recruiter receive consideration national origin federal law persons hired verify identity united states yoshimura cybercoders cybercoders positionmore experience application considered cybercodersapplicants authorized employment disability compliance eligibility multivariate statistics multivariate analysis cluster analysis anomaly detection web scraping hive artificial neural networks data visualization statistical computing rapidminer data munging regression analysis decision trees supervised learning random forest weka support vector machine svm nltk jupyter neural networks linear regression data wrangling text analytics tensorflow logistic regression matplotlib regression models time series analysis numpy unsupervised learning recommender systems exploratory data analysis scipy statistical modeling data mining deep learning natural language processing nlp apache spark keras bayesian statistics text mining predictive modeling pandas software shiny pyspark scikit learn machine learning data science artificial intelligence ai predictive analytics\n",
      "vp product engineering machine learning product scalability end end proprietary platform equal opportunity employerall qualified applicants  person funded startup tackle electrical measurements scale asaptop reasons competitive pay k word tolooking forward email subject line vp product engineering  engineers product scalabilitywhat protected veteran status industrial iot experience product scalability characteristic protected machine learning gas companies apply today clicking apply colby yoshimura executive recruiter receive consideration national origin federal law persons hired verify identity united states yoshimura cybercoders experience cybercoders positionmore kb  application considered cybercodersapplicants authorized employment disability compliance eligibility ruby rails market research mobile technology medical devices perl cloud computing design experiments paas agile methodologies product strategy embedded systems talent management virtualization semiconductors direct sales employee relations design manufacturing enterprise software email marketing product design web applications start ups social media marketing product management product marketing vendor management solution selling requirements analysis web services architecture software design competitive analysis strategy distributed systems mobile applications software development life cycle sdlc market strategy service oriented architecture soa scrum agile project management engineering management solution architecture pre sales product engineering enterprise architecture software service saas strategic partnerships software project management machine learning scalability\n",
      "vp product engineering machine learning product scalability end end proprietary platform equal opportunity employerall qualified applicants  person funded startup tackle electrical measurements scale asaptop reasons competitive pay k word tolooking forward email subject line vp product engineering  engineers product scalabilitywhat protected veteran status industrial iot experience product scalability characteristic protected machine learning gas companies apply today clicking apply colby yoshimura executive recruiter receive consideration national origin federal law persons hired verify identity united states yoshimura cybercoders experience cybercoders positionmore kb  application considered cybercodersapplicants authorized employment disability compliance eligibility ruby rails market research mobile technology medical devices perl cloud computing design experiments paas agile methodologies product strategy embedded systems talent management virtualization semiconductors direct sales employee relations design manufacturing enterprise software email marketing product design web applications start ups social media marketing product management product marketing vendor management solution selling requirements analysis web services architecture software design competitive analysis strategy distributed systems mobile applications software development life cycle sdlc market strategy service oriented architecture soa scrum agile project management engineering management solution architecture pre sales product engineering enterprise architecture software service saas strategic partnerships software project management machine learning scalability\n"
     ]
    }
   ],
   "source": [
    "for entry in yoshi.index.tolist():\n",
    "    print(yoshi['profile_content'][entry])"
   ]
  },
  {
   "cell_type": "code",
   "execution_count": 15,
   "metadata": {},
   "outputs": [
    {
     "name": "stdout",
     "output_type": "stream",
     "text": [
      "6\n"
     ]
    },
    {
     "data": {
      "text/html": [
       "<div>\n",
       "<style scoped>\n",
       "    .dataframe tbody tr th:only-of-type {\n",
       "        vertical-align: middle;\n",
       "    }\n",
       "\n",
       "    .dataframe tbody tr th {\n",
       "        vertical-align: top;\n",
       "    }\n",
       "\n",
       "    .dataframe thead th {\n",
       "        text-align: right;\n",
       "    }\n",
       "</style>\n",
       "<table border=\"1\" class=\"dataframe\">\n",
       "  <thead>\n",
       "    <tr style=\"text-align: right;\">\n",
       "      <th></th>\n",
       "      <th>class</th>\n",
       "      <th>profile_content</th>\n",
       "    </tr>\n",
       "  </thead>\n",
       "  <tbody>\n",
       "    <tr>\n",
       "      <th>4845</th>\n",
       "      <td>AI_profile</td>\n",
       "      <td>senior machine learning engineer single  core ...</td>\n",
       "    </tr>\n",
       "    <tr>\n",
       "      <th>5186</th>\n",
       "      <td>AI_profile</td>\n",
       "      <td>senior machine learning engineer single  core ...</td>\n",
       "    </tr>\n",
       "    <tr>\n",
       "      <th>6225</th>\n",
       "      <td>AI_profile</td>\n",
       "      <td>senior machine learning engineer single  core ...</td>\n",
       "    </tr>\n",
       "    <tr>\n",
       "      <th>6869</th>\n",
       "      <td>AI_profile</td>\n",
       "      <td>senior machine learning engineer single  core ...</td>\n",
       "    </tr>\n",
       "    <tr>\n",
       "      <th>11971</th>\n",
       "      <td>AI_profile</td>\n",
       "      <td>senior machine learning engineer single  core ...</td>\n",
       "    </tr>\n",
       "    <tr>\n",
       "      <th>13208</th>\n",
       "      <td>AI_profile</td>\n",
       "      <td>senior machine learning engineer single  core ...</td>\n",
       "    </tr>\n",
       "  </tbody>\n",
       "</table>\n",
       "</div>"
      ],
      "text/plain": [
       "            class                                    profile_content\n",
       "4845   AI_profile  senior machine learning engineer single  core ...\n",
       "5186   AI_profile  senior machine learning engineer single  core ...\n",
       "6225   AI_profile  senior machine learning engineer single  core ...\n",
       "6869   AI_profile  senior machine learning engineer single  core ...\n",
       "11971  AI_profile  senior machine learning engineer single  core ...\n",
       "13208  AI_profile  senior machine learning engineer single  core ..."
      ]
     },
     "execution_count": 15,
     "metadata": {},
     "output_type": "execute_result"
    }
   ],
   "source": [
    "soft=df[df['profile_content'].str.contains(\"softwareziprecruiter\")]\n",
    "print(len(soft))\n",
    "soft"
   ]
  },
  {
   "cell_type": "code",
   "execution_count": 16,
   "metadata": {},
   "outputs": [
    {
     "data": {
      "text/plain": [
       "'senior machine learning engineer single  core gb ram machine pre fab csv data set open flexible vacation policy ziprecruiter build simple systems quickly fastest growing employment marketplace award winning mobile apps active job seekers interacting billion historical job postings  million job seekers machine learning technique consistently low latency unexpected missing inputs involve large matrices space time requirements great exploratory tool internal  bit limits helping literally millions equal opportunity employer curated email alerts data driven features processgathering training data huge scale search training set job postings open pixels machine resources usebig data million businesses people job posting job application job opening job seeker youknowing job boards extracting features search algorithm role summaryit jupyter notebook easily fits multiple machines makes predictions click events incredible opportunities recommendation predicts salaries candidate matching python contributing predicts salary past history send themgiven positively rate previous clicks geographic locations workingbonus pointsof building models production databases expensive queries projects tend learn iterate random forests computer softwareziprecruiter perfect match ziprecruiter techniques impression doingbuild secondswork tensorflowwhat likelihood  categoriesgiven probability applicationgiven applications interested jobknowing theretechnologies tensorflow advancement applicants authorized organization partnerships gnu octave hive data engineering sentiment analysis bayesian statistics weka signal processing strategic partnerships matlab speech recognition big data hadoop probability blogging natural language understanding text mining cuda python programming language support vector machine svm image processing matplotlib pattern recognition convolutional neural networks cnn scipy mapreduce nltk data science opencv scala pandas software theano jupyter recommender systems artificial neural networks reinforcement learning neural networks caffe numpy algorithms data mining pytorch artificial intelligence ai computer vision natural language processing nlp scikit learn deep learning apache spark keras machine learning tensorflow'"
      ]
     },
     "execution_count": 16,
     "metadata": {},
     "output_type": "execute_result"
    }
   ],
   "source": [
    "soft['profile_content'][4845]"
   ]
  },
  {
   "cell_type": "markdown",
   "metadata": {},
   "source": [
    "**Conclusion:**\n",
    "To avoid having such a weight comming from features that my be misleading we decide to suppress from the trainin set, the actual words in the entries. We did the same with the following words: 'radiance', 'salem', 'good', 'sonuma', 'characterize', 'french', 'pinterest'"
   ]
  },
  {
   "cell_type": "code",
   "execution_count": 13,
   "metadata": {},
   "outputs": [],
   "source": [
    "exclude_list=['softwareziprecruiter','yoshimura','radiance', 'salem', 'good', 'sonuma', 'characterize', 'french', 'pinterest']\n",
    "for item_to_exclude in exclude_list:\n",
    "    df['profile_content'].replace(item_to_exclude,'',regex=True,inplace=True)"
   ]
  },
  {
   "cell_type": "markdown",
   "metadata": {},
   "source": [
    "### Updating the model\n",
    "with this small update in the training set we need to retrain the model"
   ]
  },
  {
   "cell_type": "code",
   "execution_count": 5,
   "metadata": {},
   "outputs": [
    {
     "data": {
      "text/plain": [
       "LinearSVC(C=1.0, class_weight=None, dual=True, fit_intercept=True,\n",
       "     intercept_scaling=1, loss='squared_hinge', max_iter=1000,\n",
       "     multi_class='ovr', penalty='l2', random_state=None, tol=0.0001,\n",
       "     verbose=0)"
      ]
     },
     "execution_count": 5,
     "metadata": {},
     "output_type": "execute_result"
    }
   ],
   "source": [
    "from sklearn import datasets, linear_model\n",
    "from sklearn.model_selection import train_test_split\n",
    "from sklearn.feature_extraction.text import TfidfVectorizer\n",
    "from sklearn.feature_extraction.text import TfidfTransformer\n",
    "from sklearn.feature_extraction import text\n",
    "from sklearn.svm import LinearSVC\n",
    "from sklearn import metrics\n",
    "\n",
    "# Set `y` \n",
    "y = df['class']\n",
    "# Drop the `label` column\n",
    "df.drop(\"class\", axis=1)\n",
    "# Make training and test sets \n",
    "X_train, X_test, y_train, y_test = train_test_split(df['profile_content'], y, test_size=0.2, random_state=53)\n",
    "\n",
    "# Initialize the `tfidf_vectorizer` \n",
    "tfidf_vectorizer =TfidfVectorizer(stop_words=my_stop_words, ngram_range=(1, 1), max_df=0.7)\n",
    "# Fit and transform the training data \n",
    "tfidf_train = tfidf_vectorizer.fit_transform(X_train) \n",
    "\n",
    "# Transform the test set \n",
    "tfidf_test = tfidf_vectorizer.transform(X_test)\n",
    "\n",
    "# ------ train -----\n",
    "svc_tfidf_clf = LinearSVC()\n",
    "svc_tfidf_clf.fit(tfidf_train, y_train)"
   ]
  },
  {
   "cell_type": "markdown",
   "metadata": {},
   "source": [
    "### Checking if the most informative features updated\n",
    "\n",
    "https://medium.com/@aneesha/visualising-top-features-in-linear-svm-with-scikit-learn-and-matplotlib-3454ab18a14d\n",
    "\n",
    "Once a linear SVM is fit to data (e.g., svm.fit(features, labels)), the coefficients can be accessed with svm.coef_. Recall that a linear SVM creates a hyperplane that uses support vectors to maximise the distance between the two classes. The weights obtained from svm.coef_ represent the vector coordinates which are orthogonal to the hyperplane and their direction indicates the predicted class. The absolute size of the coefficients in relation to each other can then be used to determine feature importance for the data separation task."
   ]
  },
  {
   "cell_type": "code",
   "execution_count": 6,
   "metadata": {},
   "outputs": [
    {
     "data": {
      "text/plain": [
       "{'AI_profile': [(-2.040436501330393, 'engineer'),\n",
       "  (-1.7840052936227566, 'engineers'),\n",
       "  (-1.6562691839356307, 'scientist'),\n",
       "  (-1.440576535069794, 'research'),\n",
       "  (-1.1332801846082936, 'python'),\n",
       "  (-1.0849360741007148, 'java'),\n",
       "  (-0.9835003953697924, 'engineering'),\n",
       "  (-0.9017744050850572, 'systems'),\n",
       "  (-0.8668984544091197, 'development'),\n",
       "  (-0.8597189019608863, 'design'),\n",
       "  (-0.8470757050867711, 'statistics'),\n",
       "  (-0.8425350641012777, 'programming'),\n",
       "  (-0.795390924320328, 'yoshimura'),\n",
       "  (-0.7571832176729787, 'algorithms'),\n",
       "  (-0.6913172937586078, 'techniques'),\n",
       "  (-0.6880979107661352, 'distributed'),\n",
       "  (-0.6742897002471494, 'researcher'),\n",
       "  (-0.6738902653384226, 'search'),\n",
       "  (-0.6688440798270298, 'deep'),\n",
       "  (-0.6677020436694737, 'statistical'),\n",
       "  (-0.6661228529287317, 'test'),\n",
       "  (-0.6651032960644023, 'softwareziprecruiter'),\n",
       "  (-0.652054392631685, 'hadoop'),\n",
       "  (-0.5906665999902414, 'scalability'),\n",
       "  (-0.5884084607984581, 'writing'),\n",
       "  (-0.5822736106834204, 'supervised'),\n",
       "  (-0.5596698780111199, 'bayesian'),\n",
       "  (-0.5507987651854785, 'computer'),\n",
       "  (-0.5419020850811084, 'inference'),\n",
       "  (-0.538152886113668, 'startup')],\n",
       " 'Not_AI': [(0.6982413029968084, 'church'),\n",
       "  (0.6986051825300322, 'descriptionrole'),\n",
       "  (0.6996338652221934, 'consultant'),\n",
       "  (0.7287381571828007, 'technical'),\n",
       "  (0.7337516017133765, 'speaking'),\n",
       "  (0.7347594993545281, 'process'),\n",
       "  (0.7565078695511902, 'radiance'),\n",
       "  (0.7644653025130559, 'success'),\n",
       "  (0.7682375400182045, 'fintech'),\n",
       "  (0.7758119188519443, 'sonuma'),\n",
       "  (0.8033584189054127, 'characterize'),\n",
       "  (0.8149052809403639, 'competition'),\n",
       "  (0.8393774957449935, 'speaker'),\n",
       "  (0.8793428219713623, 'consulting'),\n",
       "  (0.8870599703803344, 'marketing'),\n",
       "  (0.8998435196745341, 'french'),\n",
       "  (0.9206823788077974, 'recruiting'),\n",
       "  (0.9448528438161616, 'volunteer'),\n",
       "  (0.9515410211429908, 'customer'),\n",
       "  (0.9649610119012223, 'leadership'),\n",
       "  (1.1070169746118996, 'exploitation'),\n",
       "  (1.1567287809676285, 'european'),\n",
       "  (1.1919904398455756, 'hiring'),\n",
       "  (1.238179210396108, 'evangelist'),\n",
       "  (1.4489283529466324, 'salesforce'),\n",
       "  (1.5462476262175902, 'manager'),\n",
       "  (1.6491680579420203, 'management'),\n",
       "  (1.7775250163915135, 'business'),\n",
       "  (2.201415663512823, 'product'),\n",
       "  (3.9239890012941516, 'sales')]}"
      ]
     },
     "execution_count": 6,
     "metadata": {},
     "output_type": "execute_result"
    }
   ],
   "source": [
    "# use python 3.5 or less for this.. error in handeling the dict with python 3.6\n",
    "def most_informative_feature_for_binary_classification(vectorizer, classifier, n=40):\n",
    "    class_labels = classifier.classes_\n",
    "    feature_names = vectorizer.get_feature_names()\n",
    "    topn_class1 = sorted(zip(classifier.coef_[0], feature_names))[:n]\n",
    "    topn_class2 = sorted(zip(classifier.coef_[0], feature_names))[-n:]\n",
    "\n",
    "    return {class_labels[0]: topn_class1, \n",
    "            class_labels[1]: topn_class2,\n",
    "            }\n",
    "\n",
    "most_informative_feature_for_binary_classification(tfidf_vectorizer, svc_tfidf_clf, n=30)"
   ]
  },
  {
   "cell_type": "code",
   "execution_count": 8,
   "metadata": {},
   "outputs": [
    {
     "data": {
      "image/png": "[encoded data removed]",
      "text/plain": [
       "<Figure size 1584x576 with 1 Axes>"
      ]
     },
     "metadata": {},
     "output_type": "display_data"
    }
   ],
   "source": [
    "from matplotlib.pyplot import figure\n",
    "import matplotlib.pyplot as plt\n",
    "import matplotlib.style\n",
    "import matplotlib as mpl\n",
    "plt.style.use('seaborn-darkgrid')\n",
    "#print(plt.style.available)\n",
    "number=30\n",
    "dict_inform=most_informative_feature_for_binary_classification(tfidf_vectorizer, svc_tfidf_clf, n=number)\n",
    "s=dict_inform['AI_profile']\n",
    "df_AI=pd.DataFrame(list(s))\n",
    "df_AI.columns=['score','feature']\n",
    "df_AI=df_AI.set_index('feature')\n",
    "\n",
    "df_Not_AI=pd.DataFrame(list(dict_inform['Not_AI']))\n",
    "df_Not_AI.columns=['score','feature']\n",
    "df_Not_AI=df_Not_AI.set_index('feature')\n",
    "df_AI=df_AI.append(df_Not_AI)\n",
    "\n",
    "from matplotlib.pyplot import figure\n",
    "figure(figsize=(22, 8))\n",
    "plt.xticks(rotation=70)\n",
    "\n",
    "plt.bar(df_AI[0:number].index.values,df_AI['score'][0:number], color='r')\n",
    "plt.bar(df_AI[number:number*2].index.values,df_AI['score'][number:number*2], color='b')\n",
    "plt.savefig('informative_features.png',bbox_inches='tight', dpi=400)\n",
    "plt.show()"
   ]
  },
  {
   "cell_type": "markdown",
   "metadata": {},
   "source": [
    "### Conclusion\n",
    "\n",
    "So far the best implementation we have is with a count_vectorizer and a Support Vector Machine.\n",
    "Before saving drawing conclusion let's check for cross validation (randomly selecting alternative training/testing sample) with 5 iterations. Will will benchmark a few other models to be sure.."
   ]
  },
  {
   "cell_type": "markdown",
   "metadata": {
    "slideshow": {
     "slide_type": "skip"
    }
   },
   "source": [
    "---"
   ]
  },
  {
   "cell_type": "markdown",
   "metadata": {},
   "source": [
    "# Benchmarking and cross validated models with bags-of-words model"
   ]
  },
  {
   "cell_type": "code",
   "execution_count": 73,
   "metadata": {
    "slideshow": {
     "slide_type": "skip"
    }
   },
   "outputs": [
    {
     "name": "stdout",
     "output_type": "stream",
     "text": [
      "Processing started at: 22:38:44 04/03/19\n",
      "Processing ended at: 00:22:46 04/04/19\n"
     ]
    }
   ],
   "source": [
    "import pandas as pd\n",
    "import time\n",
    "from sklearn.model_selection import cross_val_score\n",
    "from sklearn.pipeline import Pipeline\n",
    "from sklearn.utils.extmath import density\n",
    "from sklearn import metrics\n",
    "from sklearn.feature_extraction.text import CountVectorizer\n",
    "\n",
    "from sklearn.feature_selection import SelectFromModel\n",
    "from sklearn.feature_selection import SelectKBest, chi2\n",
    "\n",
    "from sklearn.svm import LinearSVC\n",
    "from sklearn.linear_model import SGDClassifier\n",
    "from sklearn.linear_model import Perceptron\n",
    "#from sklearn.linear_model import LogisticRegression\n",
    "from sklearn.naive_bayes import BernoulliNB, MultinomialNB\n",
    "from sklearn.neighbors import KNeighborsClassifier\n",
    "from sklearn.neighbors import NearestCentroid\n",
    "from sklearn.ensemble import RandomForestClassifier\n",
    "\n",
    "from sklearn.feature_extraction import text\n",
    "\n",
    "#personalized stop words\n",
    "my_stop_words = text.ENGLISH_STOP_WORDS.union([\"âº\",\"institute\",\"honors\",\"technology\",\"Show more\",\"Field Of Study\", \"attended\",\"or\",\"expected\",\"graduation\",\"Name\",\"study\",\"indian\",\"chinese\",\"applied\",\"english\",\"graduation\",\"tsinghua\",\"studyeconomics\",\"dates\",\"field\",\"study\",'ê½cry', 'ð¹', 'ð¹ñ', 'ðºð', 'ð¼ñ', 'ð½ð³ð', 'ð½ñ''__mref', '_p', 'aa', 'aaa', 'aas', 'ab', \"\\n\",\"Education\",\"Degree\",\"Name\",\"Field\", \"Of\",\"Study\",\"â\",\"Dates\",\"attended\",\"or\",\"expected\",\"graduation\", \"â€“\", \"Show\",\"more\", \"Grade\",\"( )\",\"This\",\"position\",\"has\",\"media\"])\n",
    "\n",
    "# Initialize the `count_vectorizer` \n",
    "count_vectorizer = CountVectorizer(stop_words=my_stop_words)\n",
    "features =count_vectorizer.fit_transform(df['profile_content']).toarray()\n",
    "labels = df[\"class\"]\n",
    "features.shape\n",
    "\n",
    "print('Processing started at:',time.strftime('%X %x'))\n",
    "\n",
    "models = [\n",
    "    RandomForestClassifier(n_estimators=300, max_depth=3, random_state=0),\n",
    "    #SVC(probability=True, kernel='linear'),\n",
    "    LogisticRegression(C=0.01),\n",
    "    SVC(kernel='linear'),\n",
    "    MultinomialNB(alpha=0.008),\n",
    "    KNeighborsClassifier(n_neighbors=10),\n",
    "    NearestCentroid(),\n",
    "    BernoulliNB(alpha=.01)\n",
    "]\n",
    "\n",
    "CV = 5\n",
    "#CV = 2\n",
    "cv_df = pd.DataFrame(index=range(CV * len(models)))\n",
    "entries = []\n",
    "for model in models:\n",
    "    model_name = model.__class__.__name__\n",
    "    accuracies = cross_val_score(model, features, labels, scoring='accuracy', cv=CV)\n",
    "    for fold_idx, accuracy in enumerate(accuracies):\n",
    "        entries.append((model_name, fold_idx, accuracy))\n",
    "cv_df_count_vectorizer= pd.DataFrame(entries, columns=['model_name', 'fold_idx', 'accuracy'])\n",
    "\n",
    "print('Processing ended at:',time.strftime('%X %x'))"
   ]
  },
  {
   "cell_type": "code",
   "execution_count": 79,
   "metadata": {
    "slideshow": {
     "slide_type": "slide"
    }
   },
   "outputs": [
    {
     "data": {
      "image/png": "[encoded data removed]",
      "text/plain": [
       "<Figure size 1440x576 with 1 Axes>"
      ]
     },
     "metadata": {
      "needs_background": "light"
     },
     "output_type": "display_data"
    }
   ],
   "source": [
    "#%matplotlib inline\n",
    "from io import StringIO\n",
    "import seaborn as sns\n",
    "import matplotlib.pyplot as plt\n",
    "plt.figure(figsize=(20,8))\n",
    "sns.boxplot(x='model_name', y='accuracy', data=cv_df_count_vectorizer)\n",
    "sns.stripplot(x='model_name', y='accuracy', data=cv_df_count_vectorizer, \n",
    "             jitter=True, edgecolor=\"gray\", linewidth=1)\n",
    "\n",
    "#cv_df_count_vectorizer.groupby('model_name').accuracy.mean().reset_index().set_index('model_name')\n",
    "plt.show()"
   ]
  },
  {
   "cell_type": "markdown",
   "metadata": {
    "slideshow": {
     "slide_type": "slide"
    }
   },
   "source": [
    "## Pick the best model and save it with pickle\n",
    "\n",
    "In our previous test SVM outperformed Logistic regression.When choosing models, there are tradeoffs.. Although HashingVectorizer slightly outperforms bags-of-words model for SVC, I choose to go with Hash vectorizer for explainability purposes (it is not possible to explain the most influencial features).For the same reason, although I explore Deep Learning (Multi-layer Perceptron) with TensorFlow with very similar results. I decided to go with the Support Vector Machine as contrarily to Logistic regression skicit learn implementation of SVM allows to display probablity, we will use this feature when predicting the class.\n",
    "\n",
    "**Conclusion:** [Support Vector Machine](https://en.wikipedia.org/wiki/Support_vector_machine) with bags-of-word model for features extraction. NB. I chose SVC(probability=True, kernel='linear') over LinearSVC(). Both are linear SVM but SVC allows for displaying probability. For difference between LinearSVC() and SVC(kernel='linear') see: http://scikit-learn.org/stable/modules/generated/sklearn.svm.LinearSVC.html#sklearn.svm.LinearSVC \n",
    "\n",
    "More info on SVM in Scikit_learn: http://scikit-learn.org/stable/modules/svm.html"
   ]
  },
  {
   "cell_type": "markdown",
   "metadata": {},
   "source": [
    "# Bags of words"
   ]
  },
  {
   "cell_type": "code",
   "execution_count": 15,
   "metadata": {},
   "outputs": [
    {
     "data": {
      "text/plain": [
       "SVC(C=1.0, cache_size=200, class_weight=None, coef0=0.0,\n",
       "  decision_function_shape='ovr', degree=3, gamma='auto', kernel='linear',\n",
       "  max_iter=-1, probability=True, random_state=None, shrinking=True,\n",
       "  tol=0.001, verbose=False)"
      ]
     },
     "execution_count": 15,
     "metadata": {},
     "output_type": "execute_result"
    }
   ],
   "source": [
    "from sklearn.feature_extraction import text\n",
    "from sklearn.feature_extraction.text import CountVectorizer\n",
    "import time\n",
    "from sklearn.svm import SVC\n",
    "\n",
    "clf = SVC(probability=True, kernel='linear')\n",
    "\n",
    "#personalized stop words\n",
    "my_stop_words = text.ENGLISH_STOP_WORDS.union([\"âº\",\"institute\",\"honors\",\"technology\",\"Show more\",\"Field Of Study\", \"attended\",\"or\",\"expected\",\"graduation\",\"Name\",\"study\",\"indian\",\"chinese\",\"applied\",\"english\",\"graduation\",\"tsinghua\",\"studyeconomics\",\"dates\",\"field\",\"study\",'ê½cry', 'ð¹', 'ð¹ñ', 'ðºð', 'ð¼ñ', 'ð½ð³ð', 'ð½ñ''__mref', '_p', 'aa', 'aaa', 'aas', 'ab', \"\\n\",\"Education\",\"Degree\",\"Name\",\"Field\", \"Of\",\"Study\",\"â\",\"Dates\",\"attended\",\"or\",\"expected\",\"graduation\", \"â€“\", \"Show\",\"more\", \"Grade\",\"( )\",\"This\",\"position\",\"has\",\"media\"])\n",
    "\n",
    "# Initialize the `count_vectorizer` \n",
    "count_vectorizer = CountVectorizer(stop_words=my_stop_words)\n",
    "# Fit and transform the training data \n",
    "count_train = count_vectorizer.fit_transform(X_train) \n",
    "# Transform the test set \n",
    "count_test = count_vectorizer.transform(X_test)\n",
    "clf.fit(count_train, y_train)"
   ]
  },
  {
   "cell_type": "code",
   "execution_count": 17,
   "metadata": {},
   "outputs": [
    {
     "data": {
      "text/plain": [
       "SVC(C=1.0, cache_size=200, class_weight=None, coef0=0.0,\n",
       "  decision_function_shape='ovr', degree=3, gamma='auto', kernel='rbf',\n",
       "  max_iter=-1, probability=False, random_state=None, shrinking=True,\n",
       "  tol=0.001, verbose=False)"
      ]
     },
     "execution_count": 17,
     "metadata": {},
     "output_type": "execute_result"
    }
   ],
   "source": [
    "SVC()"
   ]
  },
  {
   "cell_type": "code",
   "execution_count": 16,
   "metadata": {},
   "outputs": [
    {
     "name": "stdout",
     "output_type": "stream",
     "text": [
      "Running Time: ended at: 10:56:44 06/06/19\n",
      "accuracy:   0.998\n",
      "Confusion matrix, without normalization\n"
     ]
    },
    {
     "data": {
      "image/png": "[encoded data removed]",
      "text/plain": [
       "<Figure size 432x288 with 2 Axes>"
      ]
     },
     "metadata": {},
     "output_type": "display_data"
    }
   ],
   "source": [
    "import time\n",
    "pred = clf.predict(count_test)\n",
    "score = metrics.accuracy_score(y_test, pred)\n",
    "cm = metrics.confusion_matrix(y_test, pred, labels=['AI_profile', 'Not_AI'])\n",
    "print('Running Time: ended at:',time.strftime('%X %x'))\n",
    "print(\"accuracy:   %0.3f\" % score)\n",
    "plot_confusion_matrix(cm, classes=['AI_profile', 'Not_AI'])"
   ]
  },
  {
   "cell_type": "markdown",
   "metadata": {},
   "source": [
    "# Hyper parameters tuning\n",
    "\n",
    "When fitting a Support Vector Machine classifier, two hyper-parameters are considered important: the Kernel trick and the Penalty parameter C of the error term. The first allows to specify whether data are linearly separable and the second allows fine-tuning how closely the classifier fits to the training data.\n",
    "To fine-tunes those two parameters I used GridSearchCV\n",
    "Parameters description for SVC in scikit: https://scikit-learn.org/stable/modules/generated/sklearn.svm.SVC.html\n",
    "For SVC and linear kernel, C parameter is enough for fine tuning. When using non linear kernel, Gama can be fine tuned as well"
   ]
  },
  {
   "cell_type": "code",
   "execution_count": 18,
   "metadata": {},
   "outputs": [
    {
     "name": "stdout",
     "output_type": "stream",
     "text": [
      "Best Params:{'kernel': 'linear', 'gamma': 0.1, 'C': 0.1}\n",
      "\n",
      "0.996 (+/-0.0) for {'kernel': 'linear', 'gamma': 0.1, 'C': 0.1}\n",
      "0.812 (+/-0.006) for {'kernel': 'rbf', 'gamma': 0.1, 'C': 0.1}\n",
      "0.996 (+/-0.0) for {'kernel': 'linear', 'gamma': 1, 'C': 0.1}\n",
      "0.792 (+/-0.005) for {'kernel': 'rbf', 'gamma': 1, 'C': 0.1}\n",
      "0.996 (+/-0.0) for {'kernel': 'linear', 'gamma': 10, 'C': 0.1}\n",
      "0.791 (+/-0.004) for {'kernel': 'rbf', 'gamma': 10, 'C': 0.1}\n",
      "0.996 (+/-0.0) for {'kernel': 'linear', 'gamma': 0.1, 'C': 1}\n",
      "0.925 (+/-0.004) for {'kernel': 'rbf', 'gamma': 0.1, 'C': 1}\n",
      "0.996 (+/-0.0) for {'kernel': 'linear', 'gamma': 1, 'C': 1}\n",
      "0.909 (+/-0.006) for {'kernel': 'rbf', 'gamma': 1, 'C': 1}\n",
      "0.996 (+/-0.0) for {'kernel': 'linear', 'gamma': 10, 'C': 1}\n",
      "0.908 (+/-0.007) for {'kernel': 'rbf', 'gamma': 10, 'C': 1}\n",
      "0.996 (+/-0.0) for {'kernel': 'linear', 'gamma': 0.1, 'C': 10}\n",
      "0.932 (+/-0.006) for {'kernel': 'rbf', 'gamma': 0.1, 'C': 10}\n",
      "0.996 (+/-0.0) for {'kernel': 'linear', 'gamma': 1, 'C': 10}\n",
      "0.911 (+/-0.007) for {'kernel': 'rbf', 'gamma': 1, 'C': 10}\n",
      "0.996 (+/-0.0) for {'kernel': 'linear', 'gamma': 10, 'C': 10}\n",
      "0.908 (+/-0.007) for {'kernel': 'rbf', 'gamma': 10, 'C': 10}\n",
      "\n",
      "Best estimator:\n",
      "SVC(C=0.1, cache_size=200, class_weight=None, coef0=0.0,\n",
      "  decision_function_shape='ovr', degree=3, gamma=0.1, kernel='linear',\n",
      "  max_iter=-1, probability=False, random_state=None, shrinking=True,\n",
      "  tol=0.001, verbose=False)\n"
     ]
    }
   ],
   "source": [
    "import pandas as pd\n",
    "from sklearn.model_selection import GridSearchCV\n",
    "from sklearn.svm import SVC\n",
    "import warnings\n",
    "\n",
    "warnings.filterwarnings('ignore', category=FutureWarning)\n",
    "warnings.filterwarnings('ignore', category=DeprecationWarning)\n",
    "\n",
    "def print_results(results):\n",
    "    print(\"Best Params:{}\\n\".format(results.best_params_))\n",
    "    means=results.cv_results_['mean_test_score']\n",
    "    stds=results.cv_results_['std_test_score']\n",
    "    for mean, std, params in zip(means, stds, results.cv_results_['params']):\n",
    "        print('{} (+/-{}) for {}'.format(round(mean,3), round(std * 2,3),params))\n",
    "\n",
    "svc=SVC()\n",
    "\n",
    "parameters = {\n",
    " 'kernel' : ['linear', 'rbf'],\n",
    " 'C' :[0.1,1,10],\n",
    " 'gamma':[0.1,1,10]\n",
    "}\n",
    "\n",
    "cv = GridSearchCV(svc, parameters, cv=5)\n",
    "cv.fit(count_train, y_train)\n",
    "\n",
    "\n",
    "print_results(cv)\n",
    "print(\"\\nBest estimator:\")\n",
    "print(cv.best_estimator_)"
   ]
  },
  {
   "cell_type": "markdown",
   "metadata": {},
   "source": [
    "## Conclusion\n",
    "\n",
    "The outcome shows that the C parameters had little influence on the results and that the data are linearly separable.\n",
    "As a result, I kept the default value for the C parameters and used the linear kernel (Gamma parameter not applicable).\n",
    "I thus made no changes to the previous specifications of the classifier.\n",
    "\n",
    "*NB. the results can be diffrent from the results showed by the confusion matrix has it operates on several sample like in Cross validation see parameter cv = 5 in GridSearchCV()*\n",
    "\n",
    "*NB. GridSearch took + 5 hours computation*"
   ]
  },
  {
   "cell_type": "markdown",
   "metadata": {
    "slideshow": {
     "slide_type": "slide"
    }
   },
   "source": [
    "# Save the model "
   ]
  },
  {
   "cell_type": "code",
   "execution_count": 10,
   "metadata": {},
   "outputs": [],
   "source": [
    "import pickle\n",
    "from sklearn.feature_extraction.text import TfidfVectorizer\n",
    "from sklearn.feature_extraction import text\n",
    "from sklearn.feature_extraction.text import CountVectorizer\n",
    "from sklearn.feature_extraction.text import TfidfTransformer\n",
    "from sklearn import metrics\n",
    "model=clf\n",
    "filename=('models/trained_model_scikitV3_BagOfWord.sav')\n",
    "filename_vect=('models/vectorizerV3_BagOfWord.pk')\n",
    "\n",
    "pickle.dump(count_vectorizer, open(filename_vect, 'wb'))\n",
    "pickle.dump(model, open(filename, 'wb'))"
   ]
  },
  {
   "cell_type": "markdown",
   "metadata": {},
   "source": [
    "--- "
   ]
  }
 ],
 "metadata": {
  "celltoolbar": "Slideshow",
  "kernelspec": {
   "display_name": "python35",
   "language": "python",
   "name": "python35"
  },
  "language_info": {
   "codemirror_mode": {
    "name": "ipython",
    "version": 3
   },
   "file_extension": ".py",
   "mimetype": "text/x-python",
   "name": "python",
   "nbconvert_exporter": "python",
   "pygments_lexer": "ipython3",
   "version": "3.5.3"
  }
 },
 "nbformat": 4,
 "nbformat_minor": 2
}
